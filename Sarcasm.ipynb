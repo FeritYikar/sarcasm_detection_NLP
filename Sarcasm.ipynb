{
  "cells": [
    {
      "cell_type": "code",
      "execution_count": 36,
      "metadata": {
        "id": "5h3BLQe1oEa4"
      },
      "outputs": [],
      "source": [
        "import numpy as np\n",
        "import pandas as pd\n",
        "import seaborn as sns\n",
        "import tensorflow as tf\n",
        "import matplotlib.pyplot as plt\n",
        "import datetime\n",
        "import seaborn as sns\n",
        "from sklearn.model_selection import train_test_split\n",
        "from tensorflow.keras.preprocessing.text import Tokenizer\n",
        "from tensorflow.keras.preprocessing.sequence import pad_sequences\n",
        "from tensorflow.keras.models import Sequential, load_model\n",
        "from tensorflow.keras.callbacks import ModelCheckpoint\n",
        "from tensorflow.keras.layers.experimental.preprocessing import TextVectorization\n",
        "from sklearn.metrics import accuracy_score, precision_recall_fscore_support\n",
        "from sklearn.feature_extraction.text import TfidfVectorizer\n",
        "from sklearn.naive_bayes import BernoulliNB, MultinomialNB\n",
        "from sklearn.pipeline import Pipeline\n",
        "from sklearn.metrics import classification_report, ConfusionMatrixDisplay\n",
        "from tensorflow.keras.layers import GlobalAveragePooling1D, Dense,\\\n",
        "                                      Input, Embedding, LSTM,\\\n",
        "                                      Bidirectional, GRU, \\\n",
        "                                      GlobalMaxPooling1D, Conv1D\n",
        "from tensorflow.keras import Model\n",
        "import tensorflow_hub as hub\n",
        "from wordcloud import WordCloud\n",
        "from PIL import Image\n",
        "from os import path\n",
        "import os"
      ]
    },
    {
      "cell_type": "code",
      "execution_count": 4,
      "metadata": {
        "colab": {
          "base_uri": "https://localhost:8080/"
        },
        "id": "1prDbnDcoc6a",
        "outputId": "c57a625c-dc3c-470d-97f0-651954c7d188"
      },
      "outputs": [
        {
          "name": "stdout",
          "output_type": "stream",
          "text": [
            "Drive already mounted at /content/drive; to attempt to forcibly remount, call drive.mount(\"/content/drive\", force_remount=True).\n"
          ]
        }
      ],
      "source": [
        "from google.colab import drive\n",
        "drive.mount('/content/drive')"
      ]
    },
    {
      "cell_type": "code",
      "execution_count": 3,
      "metadata": {
        "id": "lFhosSTUoZUF"
      },
      "outputs": [],
      "source": [
        "df = pd.read_json('drive/MyDrive/Sarcasm_Headlines_Dataset_v2.json', lines=True)"
      ]
    },
    {
      "cell_type": "code",
      "execution_count": 4,
      "metadata": {
        "colab": {
          "base_uri": "https://localhost:8080/"
        },
        "id": "vbbEDLl7oZOl",
        "outputId": "f54ebf6f-da56-4e57-f355-be515b691a83"
      },
      "outputs": [
        {
          "data": {
            "text/plain": [
              "((18316,), (18316,), (4579,), (4579,), (5724,), (5724,))"
            ]
          },
          "execution_count": 4,
          "metadata": {},
          "output_type": "execute_result"
        }
      ],
      "source": [
        "X_train_raw, X_test, y_train_raw, y_test = train_test_split(df.headline, df.is_sarcastic, train_size=.8)\n",
        "X_train, X_val, y_train, y_val = train_test_split(X_train_raw, y_train_raw, train_size=.8)\n",
        "X_train.shape, y_train.shape, X_val.shape, y_val.shape, X_test.shape, y_test.shape"
      ]
    },
    {
      "cell_type": "code",
      "execution_count": 5,
      "metadata": {},
      "outputs": [
        {
          "data": {
            "text/plain": [
              "28175    romanian communist-era labor colony chief jail...\n",
              "22722    philip morris says it's 'trying to give up cig...\n",
              "480      man shoots up bathroom when occupant takes too...\n",
              "16637    china's sexiest panda obliterates own record i...\n",
              "4049                  being moody helps us adapt to change\n",
              "Name: headline, dtype: object"
            ]
          },
          "execution_count": 5,
          "metadata": {},
          "output_type": "execute_result"
        }
      ],
      "source": [
        "X_train.head()"
      ]
    },
    {
      "cell_type": "code",
      "execution_count": 6,
      "metadata": {},
      "outputs": [
        {
          "data": {
            "text/plain": [
              "28175    0\n",
              "22722    0\n",
              "480      0\n",
              "16637    0\n",
              "4049     0\n",
              "Name: is_sarcastic, dtype: int64"
            ]
          },
          "execution_count": 6,
          "metadata": {},
          "output_type": "execute_result"
        }
      ],
      "source": [
        "y_train.head()"
      ]
    },
    {
      "cell_type": "code",
      "execution_count": 7,
      "metadata": {},
      "outputs": [
        {
          "data": {
            "text/html": [
              "<div>\n",
              "<style scoped>\n",
              "    .dataframe tbody tr th:only-of-type {\n",
              "        vertical-align: middle;\n",
              "    }\n",
              "\n",
              "    .dataframe tbody tr th {\n",
              "        vertical-align: top;\n",
              "    }\n",
              "\n",
              "    .dataframe thead th {\n",
              "        text-align: right;\n",
              "    }\n",
              "</style>\n",
              "<table border=\"1\" class=\"dataframe\">\n",
              "  <thead>\n",
              "    <tr style=\"text-align: right;\">\n",
              "      <th></th>\n",
              "      <th>is_sarcastic</th>\n",
              "      <th>headline</th>\n",
              "      <th>article_link</th>\n",
              "    </tr>\n",
              "  </thead>\n",
              "  <tbody>\n",
              "    <tr>\n",
              "      <th>0</th>\n",
              "      <td>1</td>\n",
              "      <td>thirtysomething scientists unveil doomsday clo...</td>\n",
              "      <td>https://www.theonion.com/thirtysomething-scien...</td>\n",
              "    </tr>\n",
              "    <tr>\n",
              "      <th>1</th>\n",
              "      <td>0</td>\n",
              "      <td>dem rep. totally nails why congress is falling...</td>\n",
              "      <td>https://www.huffingtonpost.com/entry/donna-edw...</td>\n",
              "    </tr>\n",
              "    <tr>\n",
              "      <th>2</th>\n",
              "      <td>0</td>\n",
              "      <td>eat your veggies: 9 deliciously different recipes</td>\n",
              "      <td>https://www.huffingtonpost.com/entry/eat-your-...</td>\n",
              "    </tr>\n",
              "    <tr>\n",
              "      <th>3</th>\n",
              "      <td>1</td>\n",
              "      <td>inclement weather prevents liar from getting t...</td>\n",
              "      <td>https://local.theonion.com/inclement-weather-p...</td>\n",
              "    </tr>\n",
              "    <tr>\n",
              "      <th>4</th>\n",
              "      <td>1</td>\n",
              "      <td>mother comes pretty close to using word 'strea...</td>\n",
              "      <td>https://www.theonion.com/mother-comes-pretty-c...</td>\n",
              "    </tr>\n",
              "  </tbody>\n",
              "</table>\n",
              "</div>"
            ],
            "text/plain": [
              "   is_sarcastic                                           headline  \\\n",
              "0             1  thirtysomething scientists unveil doomsday clo...   \n",
              "1             0  dem rep. totally nails why congress is falling...   \n",
              "2             0  eat your veggies: 9 deliciously different recipes   \n",
              "3             1  inclement weather prevents liar from getting t...   \n",
              "4             1  mother comes pretty close to using word 'strea...   \n",
              "\n",
              "                                        article_link  \n",
              "0  https://www.theonion.com/thirtysomething-scien...  \n",
              "1  https://www.huffingtonpost.com/entry/donna-edw...  \n",
              "2  https://www.huffingtonpost.com/entry/eat-your-...  \n",
              "3  https://local.theonion.com/inclement-weather-p...  \n",
              "4  https://www.theonion.com/mother-comes-pretty-c...  "
            ]
          },
          "execution_count": 7,
          "metadata": {},
          "output_type": "execute_result"
        }
      ],
      "source": [
        "df.head()"
      ]
    },
    {
      "cell_type": "code",
      "execution_count": 11,
      "metadata": {},
      "outputs": [],
      "source": [
        "df_sarcasm = df[df['is_sarcastic']==1]\n",
        "df_normal = df[df['is_sarcastic']==0]"
      ]
    },
    {
      "cell_type": "code",
      "execution_count": 13,
      "metadata": {},
      "outputs": [
        {
          "data": {
            "text/plain": [
              "(   is_sarcastic                                           headline  \\\n",
              " 0             1  thirtysomething scientists unveil doomsday clo...   \n",
              " 3             1  inclement weather prevents liar from getting t...   \n",
              " 4             1  mother comes pretty close to using word 'strea...   \n",
              " 7             1  richard branson's global-warming donation near...   \n",
              " 8             1  shadow government getting too large to meet in...   \n",
              " \n",
              "                                         article_link  \n",
              " 0  https://www.theonion.com/thirtysomething-scien...  \n",
              " 3  https://local.theonion.com/inclement-weather-p...  \n",
              " 4  https://www.theonion.com/mother-comes-pretty-c...  \n",
              " 7  https://www.theonion.com/richard-bransons-glob...  \n",
              " 8  https://politics.theonion.com/shadow-governmen...  ,\n",
              "    is_sarcastic                                           headline  \\\n",
              " 1             0  dem rep. totally nails why congress is falling...   \n",
              " 2             0  eat your veggies: 9 deliciously different recipes   \n",
              " 5             0                               my white inheritance   \n",
              " 6             0         5 ways to file your taxes with less stress   \n",
              " 9             0                 lots of parents know this scenario   \n",
              " \n",
              "                                         article_link  \n",
              " 1  https://www.huffingtonpost.com/entry/donna-edw...  \n",
              " 2  https://www.huffingtonpost.com/entry/eat-your-...  \n",
              " 5  https://www.huffingtonpost.com/entry/my-white-...  \n",
              " 6  https://www.huffingtonpost.com/entry/5-ways-to...  \n",
              " 9  https://www.huffingtonpost.comhttp://pubx.co/6...  )"
            ]
          },
          "execution_count": 13,
          "metadata": {},
          "output_type": "execute_result"
        }
      ],
      "source": [
        "df_sarcasm.head(), df_normal.head()"
      ]
    },
    {
      "cell_type": "code",
      "execution_count": 39,
      "metadata": {},
      "outputs": [
        {
          "data": {
            "image/png": "[encoded data removed]",
            "text/plain": [
              "<Figure size 432x288 with 1 Axes>"
            ]
          },
          "metadata": {
            "needs_background": "light"
          },
          "output_type": "display_data"
        },
        {
          "data": {
            "text/plain": [
              "<Figure size 3240x2160 with 0 Axes>"
            ]
          },
          "metadata": {},
          "output_type": "display_data"
        }
      ],
      "source": [
        "# d = path.dirname(__file__) if \"__file__\" in locals() else os.getcwd()\n",
        "# mask = np.array(Image.open(path.join(d, \"images/chandler.jpg\")))\n",
        "\n",
        "wordcloud_sarcasm = WordCloud(background_color=\"white\", width=3000, height=2000, max_words=200, mask=mask).generate(' '.join(df_sarcasm['headline']))\n",
        "\n",
        "plt.title('Sarcasm Headlines Wordcloud')\n",
        "plt.imshow(wordcloud_sarcasm, interpolation='bilinear')\n",
        "plt.axis(\"off\")\n",
        "plt.figure(figsize=[45,30]);"
      ]
    },
    {
      "cell_type": "code",
      "execution_count": 40,
      "metadata": {},
      "outputs": [
        {
          "data": {
            "image/png": "[encoded data removed]",
            "text/plain": [
              "<Figure size 432x288 with 1 Axes>"
            ]
          },
          "metadata": {
            "needs_background": "light"
          },
          "output_type": "display_data"
        },
        {
          "data": {
            "text/plain": [
              "<Figure size 3240x2160 with 0 Axes>"
            ]
          },
          "metadata": {},
          "output_type": "display_data"
        }
      ],
      "source": [
        "wordcloud_normal = WordCloud(background_color=\"white\", width=3000, height=2000, max_words=200).generate(' '.join(df_normal['headline']))\n",
        "\n",
        "plt.title('Normal Headlines Wordcloud')\n",
        "plt.imshow(wordcloud_normal, interpolation='bilinear')\n",
        "plt.axis(\"off\")\n",
        "plt.figure(figsize=[45,30]);"
      ]
    },
    {
      "cell_type": "markdown",
      "metadata": {
        "id": "qD8GqIP3oZIE"
      },
      "source": [
        "# Preprocessing"
      ]
    },
    {
      "cell_type": "markdown",
      "metadata": {
        "id": "gQSKCK6zqMMM"
      },
      "source": [
        "### Text vectorization ( tokenization)"
      ]
    },
    {
      "cell_type": "code",
      "execution_count": 8,
      "metadata": {
        "id": "DY4lbhDFqMJw"
      },
      "outputs": [],
      "source": [
        "text_vectorizer = TextVectorization(max_tokens=None, # max number of words possible in the dictionary if a number is set, less common word would become <oov> out of vocabulary\n",
        "                                    standardize='lower_and_strip_punctuation',\n",
        "                                    split='whitespace',\n",
        "                                    ngrams=None,\n",
        "                                    output_mode='int', # can be tf-idf\n",
        "                                    output_sequence_length=None, # if non all sequences becomes as long as longest by adding 0s to front or end?, 50 means no more than 50 words\n",
        "                                    pad_to_max_tokens=False #\n",
        "                                    )"
      ]
    },
    {
      "cell_type": "code",
      "execution_count": 9,
      "metadata": {
        "colab": {
          "base_uri": "https://localhost:8080/"
        },
        "id": "IjAXhLg1qMHV",
        "outputId": "172d2c5b-749d-4996-b0c1-b6ae29de9f09"
      },
      "outputs": [
        {
          "data": {
            "text/plain": [
              "10"
            ]
          },
          "execution_count": 9,
          "metadata": {},
          "output_type": "execute_result"
        }
      ],
      "source": [
        "round(sum([len(i.split()) for i in X_train])/len(X_train))"
      ]
    },
    {
      "cell_type": "code",
      "execution_count": 10,
      "metadata": {
        "id": "ht65x3aTqMEm"
      },
      "outputs": [],
      "source": [
        "max_vocab_length = 23000 # max no of word to have in vocab\n",
        "max_length = 15 # how many tokens per tweet the model sees and uses\n",
        "\n",
        "text_vectorizer = TextVectorization(max_tokens = max_vocab_length,\n",
        "                                    output_mode = 'int',\n",
        "                                    output_sequence_length = max_length\n",
        "                                    )"
      ]
    },
    {
      "cell_type": "code",
      "execution_count": 11,
      "metadata": {
        "id": "F0FlQcfGqMB5"
      },
      "outputs": [],
      "source": [
        "text_vectorizer.adapt(X_train) # adapt for tf instead of fit in sklearn"
      ]
    },
    {
      "cell_type": "code",
      "execution_count": 12,
      "metadata": {
        "colab": {
          "base_uri": "https://localhost:8080/"
        },
        "id": "4YG5QQCFqL6j",
        "outputId": "3868a7da-ff27-4aa5-9a41-6742700a63d2"
      },
      "outputs": [
        {
          "data": {
            "text/plain": [
              "<tf.Tensor: shape=(15,), dtype=int64, numpy=\n",
              "array([ 222,   11,    7, 6063,  379,  219,   40,    0,    0,    0,    0,\n",
              "          0,    0,    0,    0])>"
            ]
          },
          "execution_count": 12,
          "metadata": {},
          "output_type": "execute_result"
        }
      ],
      "source": [
        "sample = 'There is a flood here help us!'\n",
        "text_vectorizer(sample) ## puts the zeros at the end to get to 15 tokens"
      ]
    },
    {
      "cell_type": "code",
      "execution_count": 13,
      "metadata": {
        "colab": {
          "base_uri": "https://localhost:8080/"
        },
        "id": "MC762UztqiVR",
        "outputId": "cc4eb235-5287-4597-d379-d54865910123"
      },
      "outputs": [
        {
          "name": "stdout",
          "output_type": "stream",
          "text": [
            "Original tweet: sexualized octogenarian flapper girl still earning living for someone        \n",
            "\n",
            "Vectorized tweet:\n"
          ]
        },
        {
          "data": {
            "text/plain": [
              "<tf.Tensor: shape=(15,), dtype=int64, numpy=\n",
              "array([ 9121, 16437, 19732,   321,    69, 20366,   362,     6,   453,\n",
              "           0,     0,     0,     0,     0,     0])>"
            ]
          },
          "execution_count": 13,
          "metadata": {},
          "output_type": "execute_result"
        }
      ],
      "source": [
        "# choose a random sentence from train set\n",
        "random_headline = np.random.choice(X_train)\n",
        "print(f'Original tweet: {random_headline}\\\n",
        "        \\n\\nVectorized tweet:')\n",
        "text_vectorizer(random_headline)"
      ]
    },
    {
      "cell_type": "code",
      "execution_count": 14,
      "metadata": {
        "colab": {
          "base_uri": "https://localhost:8080/"
        },
        "id": "0JHOfUEIqiPw",
        "outputId": "f6137bf6-bffe-4f9d-a7c7-b8de8675ce72"
      },
      "outputs": [
        {
          "name": "stdout",
          "output_type": "stream",
          "text": [
            "Number of unique words :23000\n",
            "Most common words:['', '[UNK]', 'to', 'of', 'the']\n",
            "Least common words:['arafats', 'arabic', 'araa', 'ar15', 'aquatic']\n"
          ]
        }
      ],
      "source": [
        "# We set max tokens to be 10000, lets see how many words we actually have\n",
        "words_in_vocab = text_vectorizer.get_vocabulary() #gets all the words\n",
        "top_5 = words_in_vocab[:5] #most common words\n",
        "bottom_5 = words_in_vocab[-5:] #least common words\n",
        "print(f'Number of unique words :{len(words_in_vocab)}')\n",
        "print(f'Most common words:{top_5}')\n",
        "print(f'Least common words:{bottom_5}')"
      ]
    },
    {
      "cell_type": "markdown",
      "metadata": {
        "id": "GR0UmYqgqiNT"
      },
      "source": [
        "### Creating an Embedding using an Embedding Layer\n",
        "\n",
        "-input_dim size of the vocabulary\n",
        "\n",
        "-output_dim size of the output embedding layer\n",
        "\n",
        "-input_length length of the sequences being passed to the embedding layer"
      ]
    },
    {
      "cell_type": "code",
      "execution_count": 15,
      "metadata": {
        "colab": {
          "base_uri": "https://localhost:8080/"
        },
        "id": "mf01nYxwrDQG",
        "outputId": "3aa12744-b819-475a-d41d-e4b4ce03d6a0"
      },
      "outputs": [
        {
          "data": {
            "text/plain": [
              "<keras.layers.embeddings.Embedding at 0x7f31d35663d0>"
            ]
          },
          "execution_count": 15,
          "metadata": {},
          "output_type": "execute_result"
        }
      ],
      "source": [
        "embedding = Embedding(input_dim=max_vocab_length, # pre defined 10000 total number of words we allow\n",
        "                      output_dim=128, #usually use powers of 2\n",
        "                      input_length=max_length\n",
        "                      )\n",
        "embedding"
      ]
    },
    {
      "cell_type": "code",
      "execution_count": 16,
      "metadata": {
        "colab": {
          "base_uri": "https://localhost:8080/"
        },
        "id": "14eEBZeyrDIn",
        "outputId": "27b9d571-7222-45a2-d31b-71520b5496e7"
      },
      "outputs": [
        {
          "name": "stdout",
          "output_type": "stream",
          "text": [
            "Original tweet: \n",
            " ape footage causes brief three-and-a-half-minute interruption in channel-surfing)        \n",
            "\n",
            " Embedded version:\n"
          ]
        },
        {
          "data": {
            "text/plain": [
              "<tf.Tensor: shape=(15, 128), dtype=float32, numpy=\n",
              "array([[ 0.0108192 ,  0.0038358 , -0.04364262, ...,  0.01142993,\n",
              "        -0.02530917, -0.00956578],\n",
              "       [ 0.0262404 , -0.0065925 , -0.0084211 , ..., -0.03930124,\n",
              "         0.00109185, -0.03764373],\n",
              "       [ 0.02090425, -0.04334145,  0.03164167, ...,  0.02418296,\n",
              "         0.04534347,  0.00780544],\n",
              "       ...,\n",
              "       [-0.01621753, -0.00032389,  0.03984599, ..., -0.00045942,\n",
              "        -0.02526097, -0.04940602],\n",
              "       [-0.01621753, -0.00032389,  0.03984599, ..., -0.00045942,\n",
              "        -0.02526097, -0.04940602],\n",
              "       [-0.01621753, -0.00032389,  0.03984599, ..., -0.00045942,\n",
              "        -0.02526097, -0.04940602]], dtype=float32)>"
            ]
          },
          "execution_count": 16,
          "metadata": {},
          "output_type": "execute_result"
        }
      ],
      "source": [
        "random_sentence = np.random.choice(X_train)\n",
        "print(f'Original tweet: \\n {random_sentence})\\\n",
        "        \\n\\n Embedded version:')\n",
        "      \n",
        "# Embed the random tweet (turn it into dense vectors of fixed size)\n",
        "sample_embed = embedding(text_vectorizer(random_sentence))\n",
        "sample_embed # shape is 15,128 15 because we have 15 tokens as input each input turned into a vector of 128"
      ]
    },
    {
      "cell_type": "markdown",
      "metadata": {
        "id": "J9D4_F4wrCqN"
      },
      "source": [
        "# Modeling"
      ]
    },
    {
      "cell_type": "code",
      "execution_count": 17,
      "metadata": {
        "id": "SH7k8ki1rCle"
      },
      "outputs": [],
      "source": [
        "SAVE_DIR = 'tensorboard'"
      ]
    },
    {
      "cell_type": "code",
      "execution_count": 18,
      "metadata": {
        "id": "fQfupNUIqiHh"
      },
      "outputs": [],
      "source": [
        "def create_tensorboard_callback(dir_name, experiment_name):\n",
        "  \"\"\"\n",
        "  Creates a TensorBoard callback instand to store log files.\n",
        "  Stores log files with the filepath:\n",
        "    \"dir_name/experiment_name/current_datetime/\"\n",
        "  Args:\n",
        "    dir_name: target directory to store TensorBoard log files\n",
        "    experiment_name: name of experiment directory (e.g. efficientnet_model_1)\n",
        "  \"\"\"\n",
        "  log_dir = dir_name + \"/\" + experiment_name + \"/\" + datetime.datetime.now().strftime(\"%Y%m%d-%H%M%S\")\n",
        "  tensorboard_callback = tf.keras.callbacks.TensorBoard(\n",
        "      log_dir=log_dir\n",
        "  )\n",
        "  print(f\"Saving TensorBoard log files to: {log_dir}\")\n",
        "  return tensorboard_callback"
      ]
    },
    {
      "cell_type": "code",
      "execution_count": 19,
      "metadata": {
        "id": "nndTu3W-pF7x"
      },
      "outputs": [],
      "source": [
        "def eval_model(y_true, y_pred):\n",
        "  '''\n",
        "  Calculates model accuracy, precision, recall and f1 score for a binary classification model\n",
        "  '''\n",
        "\n",
        "  model_accuracy = accuracy_score(y_true, y_pred)\n",
        "  model_precision, model_recall, model_f1, _ = precision_recall_fscore_support(y_true, y_pred, average='weighted')\n",
        "  model_results = {'accuracy':model_accuracy *100,\n",
        "                   'precision':model_precision*100,\n",
        "                   'recall':model_recall*100,\n",
        "                   'f1':model_f1*100}\n",
        "  return model_results"
      ]
    },
    {
      "cell_type": "markdown",
      "metadata": {
        "id": "TU1rvPJcoZAs"
      },
      "source": [
        "## Model0 Naive Bayes (Bernoulli)"
      ]
    },
    {
      "cell_type": "code",
      "execution_count": 20,
      "metadata": {
        "colab": {
          "base_uri": "https://localhost:8080/"
        },
        "id": "9YNHrsCCoY5c",
        "outputId": "b4f586f6-e32b-464a-eabb-a6d04653860b"
      },
      "outputs": [
        {
          "data": {
            "text/plain": [
              "Pipeline(steps=[('tfidf', TfidfVectorizer()), ('clf', BernoulliNB())])"
            ]
          },
          "execution_count": 20,
          "metadata": {},
          "output_type": "execute_result"
        }
      ],
      "source": [
        "model_0 = Pipeline([\n",
        "                    ('tfidf', TfidfVectorizer()), #Turns text into numbers\n",
        "                    ('clf', BernoulliNB()) #Model the numbers\n",
        "])\n",
        "model_0.fit(X_train, y_train)"
      ]
    },
    {
      "cell_type": "code",
      "execution_count": 21,
      "metadata": {
        "colab": {
          "base_uri": "https://localhost:8080/"
        },
        "id": "LYSQjoY1oYyt",
        "outputId": "f6b43b92-92aa-4072-8639-c4f4779d6d13"
      },
      "outputs": [
        {
          "name": "stdout",
          "output_type": "stream",
          "text": [
            "Bernoulli model accuracy: 83.62%\n"
          ]
        }
      ],
      "source": [
        "Bernoulli_NB = model_0.score(X_val, y_val)\n",
        "print(f'Bernoulli model accuracy: {Bernoulli_NB*100:.2f}%')"
      ]
    },
    {
      "cell_type": "code",
      "execution_count": 22,
      "metadata": {
        "colab": {
          "base_uri": "https://localhost:8080/"
        },
        "id": "hKGcp9XxoYtN",
        "outputId": "1a97969e-a4b6-4296-9f77-2a3cb9fcd4a2"
      },
      "outputs": [
        {
          "name": "stdout",
          "output_type": "stream",
          "text": [
            "              precision    recall  f1-score   support\n",
            "\n",
            "           0      0.815     0.885     0.849      2376\n",
            "           1      0.863     0.783     0.822      2203\n",
            "\n",
            "    accuracy                          0.836      4579\n",
            "   macro avg      0.839     0.834     0.835      4579\n",
            "weighted avg      0.838     0.836     0.836      4579\n",
            "\n"
          ]
        }
      ],
      "source": [
        "Bernoulli_preds = model_0.predict(X_val)\n",
        "\n",
        "print(classification_report(y_val, Bernoulli_preds, digits=3))"
      ]
    },
    {
      "cell_type": "code",
      "execution_count": 23,
      "metadata": {
        "colab": {
          "base_uri": "https://localhost:8080/"
        },
        "id": "QyyrirtzoYpc",
        "outputId": "f4e9b14e-3a97-4e75-f02d-a5a6585fddf8"
      },
      "outputs": [
        {
          "data": {
            "text/plain": [
              "{'accuracy': 83.62087792094344,\n",
              " 'f1': 83.56038914561988,\n",
              " 'precision': 83.83612904793154,\n",
              " 'recall': 83.62087792094344}"
            ]
          },
          "execution_count": 23,
          "metadata": {},
          "output_type": "execute_result"
        }
      ],
      "source": [
        "Bernoulli_results = eval_model(y_val, Bernoulli_preds)\n",
        "Bernoulli_results"
      ]
    },
    {
      "cell_type": "markdown",
      "metadata": {
        "id": "dGwrdYMHrUz1"
      },
      "source": [
        "## Model1 Naive Bayes (Multinomial)"
      ]
    },
    {
      "cell_type": "code",
      "execution_count": 24,
      "metadata": {
        "colab": {
          "base_uri": "https://localhost:8080/"
        },
        "id": "ayCJiHpZrSwq",
        "outputId": "db31a058-e83a-4433-fa37-9fe6db777a38"
      },
      "outputs": [
        {
          "data": {
            "text/plain": [
              "Pipeline(steps=[('tfidf', TfidfVectorizer()), ('clf', MultinomialNB())])"
            ]
          },
          "execution_count": 24,
          "metadata": {},
          "output_type": "execute_result"
        }
      ],
      "source": [
        "model_1 = Pipeline([\n",
        "                    ('tfidf', TfidfVectorizer()), #Turns text into numbers\n",
        "                    ('clf', MultinomialNB()) #Model the numbers\n",
        "])\n",
        "model_1.fit(X_train, y_train)"
      ]
    },
    {
      "cell_type": "code",
      "execution_count": 25,
      "metadata": {
        "colab": {
          "base_uri": "https://localhost:8080/"
        },
        "id": "vbgKmX2wrUGv",
        "outputId": "a39ad4c3-8a36-4e45-96e5-e301ca61c23c"
      },
      "outputs": [
        {
          "name": "stdout",
          "output_type": "stream",
          "text": [
            "Multinomial model accuracy: 82.62%\n"
          ]
        }
      ],
      "source": [
        "Multinomial_NB = model_1.score(X_val, y_val)\n",
        "print(f'Multinomial model accuracy: {Multinomial_NB*100:.2f}%')"
      ]
    },
    {
      "cell_type": "code",
      "execution_count": 26,
      "metadata": {
        "colab": {
          "base_uri": "https://localhost:8080/"
        },
        "id": "7zzKSkyArUSj",
        "outputId": "aea689cd-3c8f-4b19-ca9b-f792dbdac4f3"
      },
      "outputs": [
        {
          "name": "stdout",
          "output_type": "stream",
          "text": [
            "              precision    recall  f1-score   support\n",
            "\n",
            "           0      0.797     0.893     0.842      2376\n",
            "           1      0.867     0.754     0.807      2203\n",
            "\n",
            "    accuracy                          0.826      4579\n",
            "   macro avg      0.832     0.824     0.824      4579\n",
            "weighted avg      0.831     0.826     0.825      4579\n",
            "\n"
          ]
        }
      ],
      "source": [
        "Multinomial_preds = model_1.predict(X_val)\n",
        "\n",
        "print(classification_report(y_val, Multinomial_preds, digits=3))"
      ]
    },
    {
      "cell_type": "code",
      "execution_count": 27,
      "metadata": {
        "colab": {
          "base_uri": "https://localhost:8080/"
        },
        "id": "DUl0w-pbrUXD",
        "outputId": "7300489f-bf92-4b0f-ea33-42dc4703d937"
      },
      "outputs": [
        {
          "data": {
            "text/plain": [
              "{'accuracy': 82.6162917667613,\n",
              " 'f1': 82.50508813815486,\n",
              " 'precision': 83.06169724367342,\n",
              " 'recall': 82.6162917667613}"
            ]
          },
          "execution_count": 27,
          "metadata": {},
          "output_type": "execute_result"
        }
      ],
      "source": [
        "Multinomial_results = eval_model(y_val, Multinomial_preds)\n",
        "Multinomial_results"
      ]
    },
    {
      "cell_type": "markdown",
      "metadata": {
        "id": "q6N_ppQIoYlV"
      },
      "source": [
        "## Model2 Dense"
      ]
    },
    {
      "cell_type": "code",
      "execution_count": 28,
      "metadata": {
        "colab": {
          "base_uri": "https://localhost:8080/"
        },
        "id": "DvukrIxKoYhs",
        "outputId": "104db50b-ffcd-4546-dd62-c39d05e825f3"
      },
      "outputs": [
        {
          "name": "stdout",
          "output_type": "stream",
          "text": [
            "Model: \"Dense\"\n",
            "_________________________________________________________________\n",
            " Layer (type)                Output Shape              Param #   \n",
            "=================================================================\n",
            " input_1 (InputLayer)        [(None, 1)]               0         \n",
            "                                                                 \n",
            " text_vectorization_1 (TextV  (None, 15)               0         \n",
            " ectorization)                                                   \n",
            "                                                                 \n",
            " embedding (Embedding)       (None, 15, 128)           2944000   \n",
            "                                                                 \n",
            " global_average_pooling1d (G  (None, 128)              0         \n",
            " lobalAveragePooling1D)                                          \n",
            "                                                                 \n",
            " dense (Dense)               (None, 1)                 129       \n",
            "                                                                 \n",
            "=================================================================\n",
            "Total params: 2,944,129\n",
            "Trainable params: 2,944,129\n",
            "Non-trainable params: 0\n",
            "_________________________________________________________________\n"
          ]
        }
      ],
      "source": [
        "inputs = Input(shape=(1,), dtype=tf.string) #inputs are 1 dimensional strings\n",
        "x = text_vectorizer(inputs) # turns the input text into numbers\n",
        "x = embedding(x) # turns numbers into embeddings\\\n",
        "x = GlobalAveragePooling1D()(x) # Condense the feature vector for each token to one vector\n",
        "# x = GlobalMaxPooling1D()(x) # Condense the feature vector for each token to one vector\n",
        "outputs = Dense(1,activation='sigmoid')(x) # Create the output layer, for binary outputs we used sigmoid activation\n",
        "model2 = tf.keras.Model(inputs, outputs, name='Dense')\n",
        "model2.summary()"
      ]
    },
    {
      "cell_type": "code",
      "execution_count": 29,
      "metadata": {
        "id": "BqJgRvDBoYee"
      },
      "outputs": [],
      "source": [
        "model2.compile(loss='binary_crossentropy',\n",
        "                optimizer=tf.keras.optimizers.Adam(),\n",
        "                metrics=['accuracy'])"
      ]
    },
    {
      "cell_type": "code",
      "execution_count": 30,
      "metadata": {
        "id": "ByiKvAw3s6S4"
      },
      "outputs": [],
      "source": [
        "filepath2 = 'dense_model'\n",
        "\n",
        "checkpoint2 = ModelCheckpoint(filepath=filepath2,\n",
        "                                monitor='val_accuracy',\n",
        "                                verbose=1,\n",
        "                                save_best_only=True,\n",
        "                                mode='max')\n",
        "callbacks2 = [checkpoint2]"
      ]
    },
    {
      "cell_type": "code",
      "execution_count": 31,
      "metadata": {
        "colab": {
          "base_uri": "https://localhost:8080/"
        },
        "id": "rzSxG3JRoYam",
        "outputId": "2437220a-e7a0-47d6-e8c3-80aa4bde4d2b"
      },
      "outputs": [
        {
          "name": "stdout",
          "output_type": "stream",
          "text": [
            "Saving TensorBoard log files to: tensorboard/dense_model_TB/20220406-075424\n",
            "Epoch 1/5\n",
            "572/573 [============================>.] - ETA: 0s - loss: 0.5166 - accuracy: 0.7715\n",
            "Epoch 1: val_accuracy improved from -inf to 0.83512, saving model to dense_model\n",
            "INFO:tensorflow:Assets written to: dense_model/assets\n",
            "573/573 [==============================] - 31s 52ms/step - loss: 0.5166 - accuracy: 0.7715 - val_loss: 0.3864 - val_accuracy: 0.8351\n",
            "Epoch 2/5\n",
            "573/573 [==============================] - ETA: 0s - loss: 0.2935 - accuracy: 0.8883\n",
            "Epoch 2: val_accuracy improved from 0.83512 to 0.85150, saving model to dense_model\n",
            "INFO:tensorflow:Assets written to: dense_model/assets\n",
            "573/573 [==============================] - 30s 52ms/step - loss: 0.2935 - accuracy: 0.8883 - val_loss: 0.3425 - val_accuracy: 0.8515\n",
            "Epoch 3/5\n",
            "573/573 [==============================] - ETA: 0s - loss: 0.1969 - accuracy: 0.9314\n",
            "Epoch 3: val_accuracy improved from 0.85150 to 0.85368, saving model to dense_model\n",
            "INFO:tensorflow:Assets written to: dense_model/assets\n",
            "573/573 [==============================] - 29s 50ms/step - loss: 0.1969 - accuracy: 0.9314 - val_loss: 0.3447 - val_accuracy: 0.8537\n",
            "Epoch 4/5\n",
            "573/573 [==============================] - ETA: 0s - loss: 0.1368 - accuracy: 0.9568\n",
            "Epoch 4: val_accuracy did not improve from 0.85368\n",
            "573/573 [==============================] - 28s 49ms/step - loss: 0.1368 - accuracy: 0.9568 - val_loss: 0.3720 - val_accuracy: 0.8487\n",
            "Epoch 5/5\n",
            "572/573 [============================>.] - ETA: 0s - loss: 0.0954 - accuracy: 0.9736\n",
            "Epoch 5: val_accuracy did not improve from 0.85368\n",
            "573/573 [==============================] - 28s 49ms/step - loss: 0.0955 - accuracy: 0.9736 - val_loss: 0.3988 - val_accuracy: 0.8476\n"
          ]
        }
      ],
      "source": [
        "model2_history = model2.fit(X_train, y_train, \n",
        "                            epochs=5, \n",
        "                            validation_data=(X_val, y_val),\n",
        "                            callbacks=[callbacks2, create_tensorboard_callback(SAVE_DIR,\n",
        "                                                                   'dense_model_TB')])"
      ]
    },
    {
      "cell_type": "code",
      "execution_count": 45,
      "metadata": {
        "colab": {
          "base_uri": "https://localhost:8080/",
          "height": 297
        },
        "id": "al08jPM_4VPM",
        "outputId": "f876e15c-ba01-45e6-f008-5f2ac9846f73"
      },
      "outputs": [
        {
          "name": "stdout",
          "output_type": "stream",
          "text": [
            "{'accuracy': 85.3679842760428, 'precision': 85.37107702278158, 'recall': 85.3679842760428, 'f1': 85.3691232168385}\n"
          ]
        },
        {
          "data": {
            "image/png": "[encoded data removed]",
            "text/plain": [
              "<Figure size 432x288 with 2 Axes>"
            ]
          },
          "metadata": {
            "needs_background": "light"
          },
          "output_type": "display_data"
        }
      ],
      "source": [
        "model2 = load_model(filepath2)\n",
        "model2_pred_probs = model2.predict(X_val)\n",
        "model2_predictions = tf.squeeze(tf.round(model2_pred_probs))\n",
        "model2_results = eval_model(y_val, model2_predictions)\n",
        "print(model2_results)\n",
        "ConfusionMatrixDisplay.from_predictions(y_val, model2_predictions);"
      ]
    },
    {
      "cell_type": "markdown",
      "metadata": {
        "id": "pi1xBNYxoYW9"
      },
      "source": [
        "## Model3 LSTM"
      ]
    },
    {
      "cell_type": "code",
      "execution_count": 38,
      "metadata": {
        "colab": {
          "base_uri": "https://localhost:8080/"
        },
        "id": "A-Vg2VpWoYT9",
        "outputId": "917a49a4-78ce-4188-9233-865ce91601e7"
      },
      "outputs": [
        {
          "name": "stdout",
          "output_type": "stream",
          "text": [
            "Model: \"LSTM\"\n",
            "_________________________________________________________________\n",
            " Layer (type)                Output Shape              Param #   \n",
            "=================================================================\n",
            " input_3 (InputLayer)        [(None, 1)]               0         \n",
            "                                                                 \n",
            " text_vectorization_1 (TextV  (None, 15)               0         \n",
            " ectorization)                                                   \n",
            "                                                                 \n",
            " embedding (Embedding)       (None, 15, 128)           2944000   \n",
            "                                                                 \n",
            " lstm_2 (LSTM)               (None, 15, 64)            49408     \n",
            "                                                                 \n",
            " lstm_3 (LSTM)               (None, 64)                33024     \n",
            "                                                                 \n",
            " dense_2 (Dense)             (None, 1)                 65        \n",
            "                                                                 \n",
            "=================================================================\n",
            "Total params: 3,026,497\n",
            "Trainable params: 3,026,497\n",
            "Non-trainable params: 0\n",
            "_________________________________________________________________\n"
          ]
        }
      ],
      "source": [
        "inputs = Input(shape=(1,), dtype='string')\n",
        "x = text_vectorizer(inputs)\n",
        "x = embedding(x)\n",
        "x = LSTM(64, return_sequences=True)(x)\n",
        "x = LSTM(64)(x)\n",
        "outputs = Dense(1,activation='sigmoid')(x) # Create the output layer, for binary outputs we used sigmoid activation\n",
        "model3 = tf.keras.Model(inputs, outputs, name='LSTM')\n",
        "\n",
        "model3.compile(loss='binary_crossentropy', #for multiple class we use sparse_categorical_crossentropy\n",
        "               optimizer=tf.keras.optimizers.Adam(),\n",
        "               metrics=['accuracy'])\n",
        "model3.summary()"
      ]
    },
    {
      "cell_type": "code",
      "execution_count": 39,
      "metadata": {
        "id": "kukygbI8oYP9"
      },
      "outputs": [],
      "source": [
        "filepath3 = 'LSTM_model'\n",
        "\n",
        "checkpoint3 = ModelCheckpoint(filepath=filepath3,\n",
        "                                monitor='val_accuracy',\n",
        "                                verbose=1,\n",
        "                                save_best_only=True,\n",
        "                                mode='max')\n",
        "callbacks3 = [checkpoint3]"
      ]
    },
    {
      "cell_type": "code",
      "execution_count": 40,
      "metadata": {
        "colab": {
          "base_uri": "https://localhost:8080/"
        },
        "id": "uiCYfWzmoYMG",
        "outputId": "d7302850-8c14-4cd8-f7cb-8c35bbb8daed"
      },
      "outputs": [
        {
          "name": "stdout",
          "output_type": "stream",
          "text": [
            "Saving TensorBoard log files to: tensorboard/lstm_model_TB/20220406-080057\n",
            "Epoch 1/5\n",
            "573/573 [==============================] - ETA: 0s - loss: 0.0801 - accuracy: 0.9759\n",
            "Epoch 1: val_accuracy improved from -inf to 0.84123, saving model to LSTM_model\n"
          ]
        },
        {
          "name": "stderr",
          "output_type": "stream",
          "text": [
            "WARNING:absl:Found untraced functions such as lstm_cell_2_layer_call_fn, lstm_cell_2_layer_call_and_return_conditional_losses, lstm_cell_3_layer_call_fn, lstm_cell_3_layer_call_and_return_conditional_losses while saving (showing 4 of 4). These functions will not be directly callable after loading.\n"
          ]
        },
        {
          "name": "stdout",
          "output_type": "stream",
          "text": [
            "INFO:tensorflow:Assets written to: LSTM_model/assets\n"
          ]
        },
        {
          "name": "stderr",
          "output_type": "stream",
          "text": [
            "INFO:tensorflow:Assets written to: LSTM_model/assets\n",
            "WARNING:absl:<keras.layers.recurrent.LSTMCell object at 0x7f31c7d7b790> has the same name 'LSTMCell' as a built-in Keras object. Consider renaming <class 'keras.layers.recurrent.LSTMCell'> to avoid naming conflicts when loading with `tf.keras.models.load_model`. If renaming is not possible, pass the object in the `custom_objects` parameter of the load function.\n",
            "WARNING:absl:<keras.layers.recurrent.LSTMCell object at 0x7f31c7d8bc10> has the same name 'LSTMCell' as a built-in Keras object. Consider renaming <class 'keras.layers.recurrent.LSTMCell'> to avoid naming conflicts when loading with `tf.keras.models.load_model`. If renaming is not possible, pass the object in the `custom_objects` parameter of the load function.\n"
          ]
        },
        {
          "name": "stdout",
          "output_type": "stream",
          "text": [
            "\b\b\b\b\b\b\b\b\b\b\b\b\b\b\b\b\b\b\b\b\b\b\b\b\b\b\b\b\b\b\b\b\b\b\b\b\b\b\b\b\b\b\b\b\b\b\b\b\b\b\b\b\b\b\b\b\b\b\b\b\b\b\b\b\b\b\b\b\b\b\b\b\b\b\b\b\b\b\b\b\b\b\b\b\r573/573 [==============================] - 69s 113ms/step - loss: 0.0801 - accuracy: 0.9759 - val_loss: 0.5845 - val_accuracy: 0.8412\n",
            "Epoch 2/5\n",
            "573/573 [==============================] - ETA: 0s - loss: 0.0425 - accuracy: 0.9871\n",
            "Epoch 2: val_accuracy did not improve from 0.84123\n",
            "573/573 [==============================] - 39s 68ms/step - loss: 0.0425 - accuracy: 0.9871 - val_loss: 0.5739 - val_accuracy: 0.8373\n",
            "Epoch 3/5\n",
            "573/573 [==============================] - ETA: 0s - loss: 0.0237 - accuracy: 0.9927\n",
            "Epoch 3: val_accuracy did not improve from 0.84123\n",
            "573/573 [==============================] - 40s 70ms/step - loss: 0.0237 - accuracy: 0.9927 - val_loss: 0.8171 - val_accuracy: 0.8290\n",
            "Epoch 4/5\n",
            "573/573 [==============================] - ETA: 0s - loss: 0.0142 - accuracy: 0.9963\n",
            "Epoch 4: val_accuracy did not improve from 0.84123\n",
            "573/573 [==============================] - 40s 70ms/step - loss: 0.0142 - accuracy: 0.9963 - val_loss: 0.7588 - val_accuracy: 0.8307\n",
            "Epoch 5/5\n",
            "573/573 [==============================] - ETA: 0s - loss: 0.0094 - accuracy: 0.9972\n",
            "Epoch 5: val_accuracy did not improve from 0.84123\n",
            "573/573 [==============================] - 40s 69ms/step - loss: 0.0094 - accuracy: 0.9972 - val_loss: 0.9617 - val_accuracy: 0.8253\n"
          ]
        }
      ],
      "source": [
        "model3_history = model3.fit(X_train, y_train, \n",
        "                            epochs=5,\n",
        "                            validation_data=(X_val, y_val),\n",
        "                            callbacks=[callbacks3, create_tensorboard_callback(SAVE_DIR,\n",
        "                                                                   'lstm_model_TB')])"
      ]
    },
    {
      "cell_type": "code",
      "execution_count": 46,
      "metadata": {
        "colab": {
          "base_uri": "https://localhost:8080/",
          "height": 297
        },
        "id": "gvFzfm--oXv-",
        "outputId": "2cd13e6d-fd86-43f9-ad74-fe46ef61dd48"
      },
      "outputs": [
        {
          "name": "stdout",
          "output_type": "stream",
          "text": [
            "{'accuracy': 84.1231709980345, 'precision': 84.17467980294133, 'recall': 84.1231709980345, 'f1': 84.09920819332238}\n"
          ]
        },
        {
          "data": {
            "image/png": "[encoded data removed]",
            "text/plain": [
              "<Figure size 432x288 with 2 Axes>"
            ]
          },
          "metadata": {
            "needs_background": "light"
          },
          "output_type": "display_data"
        }
      ],
      "source": [
        "model3 = load_model(filepath3)\n",
        "model3_pred_probs = model3.predict(X_val)\n",
        "model3_predictions = tf.squeeze(tf.round(model3_pred_probs))\n",
        "model3_results = eval_model(y_val, model3_predictions)\n",
        "print(model3_results)\n",
        "ConfusionMatrixDisplay.from_predictions(y_val, model3_predictions);"
      ]
    },
    {
      "cell_type": "markdown",
      "metadata": {
        "id": "bb-qsNEc6B8v"
      },
      "source": [
        "## Model4 GRU"
      ]
    },
    {
      "cell_type": "code",
      "execution_count": 47,
      "metadata": {
        "colab": {
          "base_uri": "https://localhost:8080/"
        },
        "id": "orAOSDwd6B5n",
        "outputId": "ec7514bd-c011-4827-9791-d01e88ad5231"
      },
      "outputs": [
        {
          "name": "stdout",
          "output_type": "stream",
          "text": [
            "Model: \"GRU\"\n",
            "_________________________________________________________________\n",
            " Layer (type)                Output Shape              Param #   \n",
            "=================================================================\n",
            " input_4 (InputLayer)        [(None, 1)]               0         \n",
            "                                                                 \n",
            " text_vectorization_1 (TextV  (None, 15)               0         \n",
            " ectorization)                                                   \n",
            "                                                                 \n",
            " embedding (Embedding)       (None, 15, 128)           2944000   \n",
            "                                                                 \n",
            " gru (GRU)                   (None, 64)                37248     \n",
            "                                                                 \n",
            " dense_3 (Dense)             (None, 1)                 65        \n",
            "                                                                 \n",
            "=================================================================\n",
            "Total params: 2,981,313\n",
            "Trainable params: 2,981,313\n",
            "Non-trainable params: 0\n",
            "_________________________________________________________________\n"
          ]
        }
      ],
      "source": [
        "inputs = Input(shape=(1,), dtype='string')\n",
        "x = text_vectorizer(inputs)\n",
        "x = embedding(x)\n",
        "x = GRU(64)(x)\n",
        "outputs = Dense(1, activation='sigmoid')(x)\n",
        "model4 = tf.keras.Model(inputs, outputs, name='GRU')\n",
        "model4.compile(loss='binary_crossentropy', #for multiple class we use sparse_categorical_crossentropy\n",
        "               optimizer=tf.keras.optimizers.Adam(),\n",
        "               metrics=['accuracy'])\n",
        "model4.summary()"
      ]
    },
    {
      "cell_type": "code",
      "execution_count": 48,
      "metadata": {
        "id": "2tQcL0hJ6B22"
      },
      "outputs": [],
      "source": [
        "filepath4 = 'GRU_model'\n",
        "\n",
        "checkpoint4 = ModelCheckpoint(filepath=filepath4,\n",
        "                                monitor='val_accuracy',\n",
        "                                verbose=1,\n",
        "                                save_best_only=True,\n",
        "                                mode='max')\n",
        "callbacks4 = [checkpoint4]"
      ]
    },
    {
      "cell_type": "code",
      "execution_count": 50,
      "metadata": {
        "colab": {
          "base_uri": "https://localhost:8080/"
        },
        "id": "BKlQlGdE6B0Y",
        "outputId": "b844c822-68e2-48c0-d30d-1163eb442e24"
      },
      "outputs": [
        {
          "name": "stdout",
          "output_type": "stream",
          "text": [
            "Saving TensorBoard log files to: tensorboard/gru_model_TB/20220406-081147\n",
            "Epoch 1/5\n",
            "573/573 [==============================] - ETA: 0s - loss: 0.0448 - accuracy: 0.9826\n",
            "Epoch 1: val_accuracy improved from -inf to 0.82922, saving model to GRU_model\n"
          ]
        },
        {
          "name": "stderr",
          "output_type": "stream",
          "text": [
            "WARNING:absl:Found untraced functions such as gru_cell_layer_call_fn, gru_cell_layer_call_and_return_conditional_losses while saving (showing 2 of 2). These functions will not be directly callable after loading.\n"
          ]
        },
        {
          "name": "stdout",
          "output_type": "stream",
          "text": [
            "INFO:tensorflow:Assets written to: GRU_model/assets\n"
          ]
        },
        {
          "name": "stderr",
          "output_type": "stream",
          "text": [
            "INFO:tensorflow:Assets written to: GRU_model/assets\n",
            "WARNING:absl:<keras.layers.recurrent.GRUCell object at 0x7f31cbb1da90> has the same name 'GRUCell' as a built-in Keras object. Consider renaming <class 'keras.layers.recurrent.GRUCell'> to avoid naming conflicts when loading with `tf.keras.models.load_model`. If renaming is not possible, pass the object in the `custom_objects` parameter of the load function.\n"
          ]
        },
        {
          "name": "stdout",
          "output_type": "stream",
          "text": [
            "\b\b\b\b\b\b\b\b\b\b\b\b\b\b\b\b\b\b\b\b\b\b\b\b\b\b\b\b\b\b\b\b\b\b\b\b\b\b\b\b\b\b\b\b\b\b\b\b\b\b\b\b\b\b\b\b\b\b\b\b\b\b\b\b\b\b\b\b\b\b\b\b\b\b\b\b\b\b\b\b\b\b\b\b\r573/573 [==============================] - 59s 98ms/step - loss: 0.0448 - accuracy: 0.9826 - val_loss: 0.8628 - val_accuracy: 0.8292\n",
            "Epoch 2/5\n",
            "573/573 [==============================] - ETA: 0s - loss: 0.0090 - accuracy: 0.9978\n",
            "Epoch 2: val_accuracy improved from 0.82922 to 0.83009, saving model to GRU_model\n"
          ]
        },
        {
          "name": "stderr",
          "output_type": "stream",
          "text": [
            "WARNING:absl:Found untraced functions such as gru_cell_layer_call_fn, gru_cell_layer_call_and_return_conditional_losses while saving (showing 2 of 2). These functions will not be directly callable after loading.\n"
          ]
        },
        {
          "name": "stdout",
          "output_type": "stream",
          "text": [
            "INFO:tensorflow:Assets written to: GRU_model/assets\n"
          ]
        },
        {
          "name": "stderr",
          "output_type": "stream",
          "text": [
            "INFO:tensorflow:Assets written to: GRU_model/assets\n",
            "WARNING:absl:<keras.layers.recurrent.GRUCell object at 0x7f31cbb1da90> has the same name 'GRUCell' as a built-in Keras object. Consider renaming <class 'keras.layers.recurrent.GRUCell'> to avoid naming conflicts when loading with `tf.keras.models.load_model`. If renaming is not possible, pass the object in the `custom_objects` parameter of the load function.\n"
          ]
        },
        {
          "name": "stdout",
          "output_type": "stream",
          "text": [
            "\b\b\b\b\b\b\b\b\b\b\b\b\b\b\b\b\b\b\b\b\b\b\b\b\b\b\b\b\b\b\b\b\b\b\b\b\b\b\b\b\b\b\b\b\b\b\b\b\b\b\b\b\b\b\b\b\b\b\b\b\b\b\b\b\b\b\b\b\b\b\b\b\b\b\b\b\b\b\b\b\b\b\b\b\r573/573 [==============================] - 45s 78ms/step - loss: 0.0090 - accuracy: 0.9978 - val_loss: 1.0568 - val_accuracy: 0.8301\n",
            "Epoch 3/5\n",
            "573/573 [==============================] - ETA: 0s - loss: 0.0052 - accuracy: 0.9985\n",
            "Epoch 3: val_accuracy did not improve from 0.83009\n",
            "573/573 [==============================] - 43s 76ms/step - loss: 0.0052 - accuracy: 0.9985 - val_loss: 1.1843 - val_accuracy: 0.8120\n",
            "Epoch 4/5\n",
            "573/573 [==============================] - ETA: 0s - loss: 0.0029 - accuracy: 0.9994\n",
            "Epoch 4: val_accuracy did not improve from 0.83009\n",
            "573/573 [==============================] - 40s 69ms/step - loss: 0.0029 - accuracy: 0.9994 - val_loss: 1.1510 - val_accuracy: 0.8192\n",
            "Epoch 5/5\n",
            "573/573 [==============================] - ETA: 0s - loss: 0.0060 - accuracy: 0.9982\n",
            "Epoch 5: val_accuracy did not improve from 0.83009\n",
            "573/573 [==============================] - 50s 87ms/step - loss: 0.0060 - accuracy: 0.9982 - val_loss: 1.0106 - val_accuracy: 0.8152\n"
          ]
        }
      ],
      "source": [
        "model4_history = model4.fit(X_train, y_train, \n",
        "                            epochs=5,\n",
        "                            validation_data=(X_val, y_val),\n",
        "                            callbacks=[callbacks4, create_tensorboard_callback(SAVE_DIR,\n",
        "                                                                   'gru_model_TB')])"
      ]
    },
    {
      "cell_type": "code",
      "execution_count": 51,
      "metadata": {
        "colab": {
          "base_uri": "https://localhost:8080/",
          "height": 297
        },
        "id": "bw9cV4ud6Bxj",
        "outputId": "fec69371-feb2-412f-d90e-fbfbe69ddbd8"
      },
      "outputs": [
        {
          "name": "stdout",
          "output_type": "stream",
          "text": [
            "{'accuracy': 83.00939069665866, 'precision': 83.02347820652656, 'recall': 83.00939069665866, 'f1': 83.01287045212247}\n"
          ]
        },
        {
          "data": {
            "image/png": "[encoded data removed]",
            "text/plain": [
              "<Figure size 432x288 with 2 Axes>"
            ]
          },
          "metadata": {
            "needs_background": "light"
          },
          "output_type": "display_data"
        }
      ],
      "source": [
        "model4 = load_model(filepath4)\n",
        "model4_pred_probs = model4.predict(X_val)\n",
        "model4_predictions = tf.squeeze(tf.round(model4_pred_probs))\n",
        "model4_results = eval_model(y_val, model4_predictions)\n",
        "print(model4_results)\n",
        "ConfusionMatrixDisplay.from_predictions(y_val, model4_predictions);"
      ]
    },
    {
      "cell_type": "markdown",
      "metadata": {
        "id": "Y6u8CtlF6Bur"
      },
      "source": [
        "## Model5 Bidirectional RNN\n"
      ]
    },
    {
      "cell_type": "code",
      "execution_count": 52,
      "metadata": {
        "colab": {
          "base_uri": "https://localhost:8080/"
        },
        "id": "aKIKsdVY6BsD",
        "outputId": "b8c6759b-9470-495e-e43b-cf2674ec6cfc"
      },
      "outputs": [
        {
          "name": "stdout",
          "output_type": "stream",
          "text": [
            "Model: \"bidirectional\"\n",
            "_________________________________________________________________\n",
            " Layer (type)                Output Shape              Param #   \n",
            "=================================================================\n",
            " input_4 (InputLayer)        [(None, 1)]               0         \n",
            "                                                                 \n",
            " text_vectorization_1 (TextV  (None, 15)               0         \n",
            " ectorization)                                                   \n",
            "                                                                 \n",
            " embedding (Embedding)       (None, 15, 128)           2944000   \n",
            "                                                                 \n",
            " bidirectional (Bidirectiona  (None, 15, 128)          98816     \n",
            " l)                                                              \n",
            "                                                                 \n",
            " bidirectional_1 (Bidirectio  (None, 128)              74496     \n",
            " nal)                                                            \n",
            "                                                                 \n",
            " dense_4 (Dense)             (None, 1)                 129       \n",
            "                                                                 \n",
            "=================================================================\n",
            "Total params: 3,117,441\n",
            "Trainable params: 3,117,441\n",
            "Non-trainable params: 0\n",
            "_________________________________________________________________\n"
          ]
        }
      ],
      "source": [
        "x = text_vectorizer(inputs)\n",
        "x = embedding(x)\n",
        "x = Bidirectional(LSTM(64, return_sequences=True))(x)\n",
        "x = Bidirectional(GRU(64))(x)\n",
        "outputs = Dense(1, activation='sigmoid')(x)\n",
        "model5 = tf.keras.Model(inputs, outputs, name='bidirectional')\n",
        "model5.compile(loss='binary_crossentropy', #for multiple class we use sparse_categorical_crossentropy\n",
        "               optimizer=tf.keras.optimizers.Adam(),\n",
        "               metrics=['accuracy'])\n",
        "model5.summary()"
      ]
    },
    {
      "cell_type": "code",
      "execution_count": 53,
      "metadata": {
        "id": "so2fndNJ6Bo6"
      },
      "outputs": [],
      "source": [
        "filepath5 = 'Bidirectional_model'\n",
        "\n",
        "checkpoint5 = ModelCheckpoint(filepath=filepath5,\n",
        "                                monitor='val_accuracy',\n",
        "                                verbose=1,\n",
        "                                save_best_only=True,\n",
        "                                mode='max')\n",
        "callbacks5 = [checkpoint5]"
      ]
    },
    {
      "cell_type": "code",
      "execution_count": 54,
      "metadata": {
        "colab": {
          "base_uri": "https://localhost:8080/"
        },
        "id": "dNkjijs96Bmb",
        "outputId": "12788aac-b2e9-4b68-8a2f-234792b409d2"
      },
      "outputs": [
        {
          "name": "stdout",
          "output_type": "stream",
          "text": [
            "Saving TensorBoard log files to: tensorboard/Bidirectional_model_TB/20220406-081621\n",
            "Epoch 1/5\n",
            "573/573 [==============================] - ETA: 0s - loss: 0.0168 - accuracy: 0.9968\n",
            "Epoch 1: val_accuracy improved from -inf to 0.82311, saving model to Bidirectional_model\n"
          ]
        },
        {
          "name": "stderr",
          "output_type": "stream",
          "text": [
            "WARNING:absl:Found untraced functions such as lstm_cell_9_layer_call_fn, lstm_cell_9_layer_call_and_return_conditional_losses, lstm_cell_10_layer_call_fn, lstm_cell_10_layer_call_and_return_conditional_losses, gru_cell_3_layer_call_fn while saving (showing 5 of 8). These functions will not be directly callable after loading.\n"
          ]
        },
        {
          "name": "stdout",
          "output_type": "stream",
          "text": [
            "INFO:tensorflow:Assets written to: Bidirectional_model/assets\n"
          ]
        },
        {
          "name": "stderr",
          "output_type": "stream",
          "text": [
            "INFO:tensorflow:Assets written to: Bidirectional_model/assets\n",
            "WARNING:absl:<keras.layers.recurrent.LSTMCell object at 0x7f31bf84c650> has the same name 'LSTMCell' as a built-in Keras object. Consider renaming <class 'keras.layers.recurrent.LSTMCell'> to avoid naming conflicts when loading with `tf.keras.models.load_model`. If renaming is not possible, pass the object in the `custom_objects` parameter of the load function.\n",
            "WARNING:absl:<keras.layers.recurrent.LSTMCell object at 0x7f31bf845590> has the same name 'LSTMCell' as a built-in Keras object. Consider renaming <class 'keras.layers.recurrent.LSTMCell'> to avoid naming conflicts when loading with `tf.keras.models.load_model`. If renaming is not possible, pass the object in the `custom_objects` parameter of the load function.\n",
            "WARNING:absl:<keras.layers.recurrent.GRUCell object at 0x7f31bf740090> has the same name 'GRUCell' as a built-in Keras object. Consider renaming <class 'keras.layers.recurrent.GRUCell'> to avoid naming conflicts when loading with `tf.keras.models.load_model`. If renaming is not possible, pass the object in the `custom_objects` parameter of the load function.\n",
            "WARNING:absl:<keras.layers.recurrent.GRUCell object at 0x7f31bf6a8710> has the same name 'GRUCell' as a built-in Keras object. Consider renaming <class 'keras.layers.recurrent.GRUCell'> to avoid naming conflicts when loading with `tf.keras.models.load_model`. If renaming is not possible, pass the object in the `custom_objects` parameter of the load function.\n"
          ]
        },
        {
          "name": "stdout",
          "output_type": "stream",
          "text": [
            "\b\b\b\b\b\b\b\b\b\b\b\b\b\b\b\b\b\b\b\b\b\b\b\b\b\b\b\b\b\b\b\b\b\b\b\b\b\b\b\b\b\b\b\b\b\b\b\b\b\b\b\b\b\b\b\b\b\b\b\b\b\b\b\b\b\b\b\b\b\b\b\b\b\b\b\b\b\b\b\b\b\b\b\b\r573/573 [==============================] - 122s 194ms/step - loss: 0.0168 - accuracy: 0.9968 - val_loss: 1.1734 - val_accuracy: 0.8231\n",
            "Epoch 2/5\n",
            "573/573 [==============================] - ETA: 0s - loss: 0.0026 - accuracy: 0.9992\n",
            "Epoch 2: val_accuracy did not improve from 0.82311\n",
            "573/573 [==============================] - 51s 90ms/step - loss: 0.0026 - accuracy: 0.9992 - val_loss: 1.2309 - val_accuracy: 0.8150\n",
            "Epoch 3/5\n",
            "573/573 [==============================] - ETA: 0s - loss: 0.0019 - accuracy: 0.9996\n",
            "Epoch 3: val_accuracy did not improve from 0.82311\n",
            "573/573 [==============================] - 58s 101ms/step - loss: 0.0019 - accuracy: 0.9996 - val_loss: 1.5403 - val_accuracy: 0.8133\n",
            "Epoch 4/5\n",
            "573/573 [==============================] - ETA: 0s - loss: 0.0024 - accuracy: 0.9994\n",
            "Epoch 4: val_accuracy did not improve from 0.82311\n",
            "573/573 [==============================] - 78s 136ms/step - loss: 0.0024 - accuracy: 0.9994 - val_loss: 1.1121 - val_accuracy: 0.8133\n",
            "Epoch 5/5\n",
            "573/573 [==============================] - ETA: 0s - loss: 0.0038 - accuracy: 0.9990\n",
            "Epoch 5: val_accuracy did not improve from 0.82311\n",
            "573/573 [==============================] - 60s 104ms/step - loss: 0.0038 - accuracy: 0.9990 - val_loss: 1.4015 - val_accuracy: 0.8135\n"
          ]
        }
      ],
      "source": [
        "model5_history = model5.fit(X_train, y_train, \n",
        "                            epochs=5,\n",
        "                            validation_data=(X_val, y_val),\n",
        "                            callbacks=[callbacks5, create_tensorboard_callback(SAVE_DIR,\n",
        "                                                                   'Bidirectional_model_TB')])"
      ]
    },
    {
      "cell_type": "code",
      "execution_count": 55,
      "metadata": {
        "colab": {
          "base_uri": "https://localhost:8080/",
          "height": 297
        },
        "id": "XXB_5pWc6Bjz",
        "outputId": "0e266c37-cfed-4dce-a435-61a8e200c18d"
      },
      "outputs": [
        {
          "name": "stdout",
          "output_type": "stream",
          "text": [
            "{'accuracy': 82.31054815461891, 'precision': 82.34623177716931, 'recall': 82.31054815461891, 'f1': 82.31607949787237}\n"
          ]
        },
        {
          "data": {
            "image/png": "[encoded data removed]",
            "text/plain": [
              "<Figure size 432x288 with 2 Axes>"
            ]
          },
          "metadata": {
            "needs_background": "light"
          },
          "output_type": "display_data"
        }
      ],
      "source": [
        "model5 = load_model(filepath5)\n",
        "model5_pred_probs = model5.predict(X_val)\n",
        "model5_predictions = tf.squeeze(tf.round(model5_pred_probs))\n",
        "model5_results = eval_model(y_val, model5_predictions)\n",
        "print(model5_results)\n",
        "ConfusionMatrixDisplay.from_predictions(y_val, model5_predictions);"
      ]
    },
    {
      "cell_type": "markdown",
      "metadata": {
        "id": "cjCCkh4d6BhK"
      },
      "source": [
        "## Model6 Conv1D"
      ]
    },
    {
      "cell_type": "code",
      "execution_count": 56,
      "metadata": {
        "colab": {
          "base_uri": "https://localhost:8080/"
        },
        "id": "xSUyZPJf6BeY",
        "outputId": "f6922005-89b3-400e-d407-6f86582c6172"
      },
      "outputs": [
        {
          "name": "stdout",
          "output_type": "stream",
          "text": [
            "Model: \"CNN1D\"\n",
            "_________________________________________________________________\n",
            " Layer (type)                Output Shape              Param #   \n",
            "=================================================================\n",
            " input_5 (InputLayer)        [(None, 1)]               0         \n",
            "                                                                 \n",
            " text_vectorization_1 (TextV  (None, 15)               0         \n",
            " ectorization)                                                   \n",
            "                                                                 \n",
            " embedding (Embedding)       (None, 15, 128)           2944000   \n",
            "                                                                 \n",
            " conv1d (Conv1D)             (None, 15, 64)            24640     \n",
            "                                                                 \n",
            " global_max_pooling1d (Globa  (None, 64)               0         \n",
            " lMaxPooling1D)                                                  \n",
            "                                                                 \n",
            " dense_5 (Dense)             (None, 1)                 65        \n",
            "                                                                 \n",
            "=================================================================\n",
            "Total params: 2,968,705\n",
            "Trainable params: 2,968,705\n",
            "Non-trainable params: 0\n",
            "_________________________________________________________________\n"
          ]
        }
      ],
      "source": [
        "inputs = Input(shape=(1,), dtype='string')\n",
        "x = text_vectorizer(inputs)\n",
        "x = embedding(x)\n",
        "x = Conv1D(64, kernel_size=3, activation='relu',padding='same',strides=1)(x)\n",
        "x = GlobalMaxPooling1D()(x)\n",
        "outputs = Dense(1, activation='sigmoid')(x)\n",
        "model6 = tf.keras.Model(inputs, outputs, name='CNN1D')\n",
        "model6.compile(loss='binary_crossentropy', #for multiple class we use sparse_categorical_crossentropy\n",
        "               optimizer=tf.keras.optimizers.Adam(),\n",
        "               metrics=['accuracy'])\n",
        "model6.summary()"
      ]
    },
    {
      "cell_type": "code",
      "execution_count": 57,
      "metadata": {
        "id": "0kfc4oTu6Bb9"
      },
      "outputs": [],
      "source": [
        "filepath6 = 'CNN1D_model'\n",
        "\n",
        "checkpoint6 = ModelCheckpoint(filepath=filepath6,\n",
        "                                monitor='val_accuracy',\n",
        "                                verbose=1,\n",
        "                                save_best_only=True,\n",
        "                                mode='max')\n",
        "callbacks6 = [checkpoint6]"
      ]
    },
    {
      "cell_type": "code",
      "execution_count": 58,
      "metadata": {
        "colab": {
          "base_uri": "https://localhost:8080/"
        },
        "id": "haNivVYU6BZD",
        "outputId": "f575fed9-eadd-428d-c706-31fc12386d39"
      },
      "outputs": [
        {
          "name": "stdout",
          "output_type": "stream",
          "text": [
            "Saving TensorBoard log files to: tensorboard/CNN1D_model_TB/20220406-082456\n",
            "Epoch 1/5\n",
            "573/573 [==============================] - ETA: 0s - loss: 0.0628 - accuracy: 0.9811\n",
            "Epoch 1: val_accuracy improved from -inf to 0.79908, saving model to CNN1D_model\n",
            "INFO:tensorflow:Assets written to: CNN1D_model/assets\n"
          ]
        },
        {
          "name": "stderr",
          "output_type": "stream",
          "text": [
            "INFO:tensorflow:Assets written to: CNN1D_model/assets\n"
          ]
        },
        {
          "name": "stdout",
          "output_type": "stream",
          "text": [
            "\b\b\b\b\b\b\b\b\b\b\b\b\b\b\b\b\b\b\b\b\b\b\b\b\b\b\b\b\b\b\b\b\b\b\b\b\b\b\b\b\b\b\b\b\b\b\b\b\b\b\b\b\b\b\b\b\b\b\b\b\b\b\b\b\b\b\b\b\b\b\b\b\b\b\b\b\b\b\b\b\b\b\b\b\r573/573 [==============================] - 33s 56ms/step - loss: 0.0628 - accuracy: 0.9811 - val_loss: 0.9142 - val_accuracy: 0.7991\n",
            "Epoch 2/5\n",
            "573/573 [==============================] - ETA: 0s - loss: 0.0177 - accuracy: 0.9949\n",
            "Epoch 2: val_accuracy did not improve from 0.79908\n",
            "573/573 [==============================] - 40s 69ms/step - loss: 0.0177 - accuracy: 0.9949 - val_loss: 1.1564 - val_accuracy: 0.7936\n",
            "Epoch 3/5\n",
            "573/573 [==============================] - ETA: 0s - loss: 0.0045 - accuracy: 0.9992\n",
            "Epoch 3: val_accuracy did not improve from 0.79908\n",
            "573/573 [==============================] - 35s 60ms/step - loss: 0.0045 - accuracy: 0.9992 - val_loss: 1.3711 - val_accuracy: 0.7899\n",
            "Epoch 4/5\n",
            "573/573 [==============================] - ETA: 0s - loss: 0.0013 - accuracy: 0.9999\n",
            "Epoch 4: val_accuracy did not improve from 0.79908\n",
            "573/573 [==============================] - 34s 59ms/step - loss: 0.0013 - accuracy: 0.9999 - val_loss: 1.4942 - val_accuracy: 0.7914\n",
            "Epoch 5/5\n",
            "573/573 [==============================] - ETA: 0s - loss: 4.2815e-04 - accuracy: 1.0000\n",
            "Epoch 5: val_accuracy did not improve from 0.79908\n",
            "573/573 [==============================] - 37s 65ms/step - loss: 4.2815e-04 - accuracy: 1.0000 - val_loss: 1.6067 - val_accuracy: 0.7897\n"
          ]
        }
      ],
      "source": [
        "model6_history = model6.fit(X_train, y_train, \n",
        "                            epochs=5,\n",
        "                            validation_data=(X_val, y_val),\n",
        "                            callbacks=[callbacks6, create_tensorboard_callback(SAVE_DIR,\n",
        "                                                                   'CNN1D_model_TB')])"
      ]
    },
    {
      "cell_type": "code",
      "execution_count": 59,
      "metadata": {
        "colab": {
          "base_uri": "https://localhost:8080/",
          "height": 297
        },
        "id": "g6sSD74C6BWs",
        "outputId": "13a9b363-881d-4356-e51b-e5732ff2d092"
      },
      "outputs": [
        {
          "name": "stdout",
          "output_type": "stream",
          "text": [
            "{'accuracy': 79.90827691635728, 'precision': 79.92473856913878, 'recall': 79.90827691635728, 'f1': 79.91260461467121}\n"
          ]
        },
        {
          "data": {
            "image/png": "[encoded data removed]",
            "text/plain": [
              "<Figure size 432x288 with 2 Axes>"
            ]
          },
          "metadata": {
            "needs_background": "light"
          },
          "output_type": "display_data"
        }
      ],
      "source": [
        "model6 = load_model(filepath6)\n",
        "model6_pred_probs = model6.predict(X_val)\n",
        "model6_predictions = tf.squeeze(tf.round(model6_pred_probs))\n",
        "model6_results = eval_model(y_val, model6_predictions)\n",
        "print(model6_results)\n",
        "ConfusionMatrixDisplay.from_predictions(y_val, model6_predictions);"
      ]
    },
    {
      "cell_type": "markdown",
      "metadata": {
        "id": "ecd1wM_-6BUE"
      },
      "source": [
        "## Model7 Transfer Learning - USE"
      ]
    },
    {
      "cell_type": "code",
      "execution_count": 60,
      "metadata": {
        "id": "kWupc68K6BRe"
      },
      "outputs": [],
      "source": [
        "sentence_encoder_layer = hub.KerasLayer('https://tfhub.dev/google/universal-sentence-encoder/4',\n",
        "                                        input_shape=[],\n",
        "                                        dtype=tf.string,\n",
        "                                        trainable=False, # Means we keep the weights pretrained instean of reseting\n",
        "                                        name='USE') #Universal Sentence Encoder"
      ]
    },
    {
      "cell_type": "code",
      "execution_count": 61,
      "metadata": {
        "colab": {
          "base_uri": "https://localhost:8080/"
        },
        "id": "-uc9olKt6BOo",
        "outputId": "31ff3580-62a9-4626-91a0-cc9845063a48"
      },
      "outputs": [
        {
          "name": "stdout",
          "output_type": "stream",
          "text": [
            "Model: \"TL_USE\"\n",
            "_________________________________________________________________\n",
            " Layer (type)                Output Shape              Param #   \n",
            "=================================================================\n",
            " USE (KerasLayer)            (None, 512)               256797824 \n",
            "                                                                 \n",
            " dense_6 (Dense)             (None, 64)                32832     \n",
            "                                                                 \n",
            " dense_7 (Dense)             (None, 1)                 65        \n",
            "                                                                 \n",
            "=================================================================\n",
            "Total params: 256,830,721\n",
            "Trainable params: 32,897\n",
            "Non-trainable params: 256,797,824\n",
            "_________________________________________________________________\n"
          ]
        }
      ],
      "source": [
        "model7 = Sequential([sentence_encoder_layer,\n",
        "                     Dense(64, activation='relu'),\n",
        "                     Dense(1, activation='sigmoid')\n",
        "                              \n",
        "], name='TL_USE')\n",
        "\n",
        "# Compile the model\n",
        "model7.compile(loss='binary_crossentropy',\n",
        "               optimizer=tf.keras.optimizers.Adam(),\n",
        "               metrics=['accuracy'])\n",
        "model7.summary()"
      ]
    },
    {
      "cell_type": "code",
      "execution_count": 62,
      "metadata": {
        "id": "Bd96K1gN6BMC"
      },
      "outputs": [],
      "source": [
        "filepath7 = 'TL_USE_model'\n",
        "\n",
        "checkpoint7 = ModelCheckpoint(filepath=filepath7,\n",
        "                                monitor='val_accuracy',\n",
        "                                verbose=1,\n",
        "                                save_best_only=True,\n",
        "                                mode='max')\n",
        "callbacks7 = [checkpoint7]"
      ]
    },
    {
      "cell_type": "code",
      "execution_count": 63,
      "metadata": {
        "colab": {
          "base_uri": "https://localhost:8080/"
        },
        "id": "XZfaAdX06BJw",
        "outputId": "3c3a5713-8758-4fed-b0b7-0dd7a3529782"
      },
      "outputs": [
        {
          "name": "stdout",
          "output_type": "stream",
          "text": [
            "Saving TensorBoard log files to: tensorboard/TL_USE_model_TB/20220406-082909\n",
            "Epoch 1/10\n",
            "573/573 [==============================] - ETA: 0s - loss: 0.5056 - accuracy: 0.7625\n",
            "Epoch 1: val_accuracy improved from -inf to 0.78489, saving model to TL_USE_model\n"
          ]
        },
        {
          "name": "stderr",
          "output_type": "stream",
          "text": [
            "WARNING:absl:Function `_wrapped_model` contains input name(s) USE_input with unsupported characters which will be renamed to use_input in the SavedModel.\n"
          ]
        },
        {
          "name": "stdout",
          "output_type": "stream",
          "text": [
            "INFO:tensorflow:Assets written to: TL_USE_model/assets\n"
          ]
        },
        {
          "name": "stderr",
          "output_type": "stream",
          "text": [
            "INFO:tensorflow:Assets written to: TL_USE_model/assets\n"
          ]
        },
        {
          "name": "stdout",
          "output_type": "stream",
          "text": [
            "\b\b\b\b\b\b\b\b\b\b\b\b\b\b\b\b\b\b\b\b\b\b\b\b\b\b\b\b\b\b\b\b\b\b\b\b\b\b\b\b\b\b\b\b\b\b\b\b\b\b\b\b\b\b\b\b\b\b\b\b\b\b\b\b\b\b\b\b\b\b\b\b\b\b\b\b\b\b\b\b\b\b\b\b\r573/573 [==============================] - 28s 41ms/step - loss: 0.5056 - accuracy: 0.7625 - val_loss: 0.4571 - val_accuracy: 0.7849\n",
            "Epoch 2/10\n",
            "573/573 [==============================] - ETA: 0s - loss: 0.4406 - accuracy: 0.7935\n",
            "Epoch 2: val_accuracy improved from 0.78489 to 0.79209, saving model to TL_USE_model\n"
          ]
        },
        {
          "name": "stderr",
          "output_type": "stream",
          "text": [
            "WARNING:absl:Function `_wrapped_model` contains input name(s) USE_input with unsupported characters which will be renamed to use_input in the SavedModel.\n"
          ]
        },
        {
          "name": "stdout",
          "output_type": "stream",
          "text": [
            "INFO:tensorflow:Assets written to: TL_USE_model/assets\n"
          ]
        },
        {
          "name": "stderr",
          "output_type": "stream",
          "text": [
            "INFO:tensorflow:Assets written to: TL_USE_model/assets\n"
          ]
        },
        {
          "name": "stdout",
          "output_type": "stream",
          "text": [
            "\b\b\b\b\b\b\b\b\b\b\b\b\b\b\b\b\b\b\b\b\b\b\b\b\b\b\b\b\b\b\b\b\b\b\b\b\b\b\b\b\b\b\b\b\b\b\b\b\b\b\b\b\b\b\b\b\b\b\b\b\b\b\b\b\b\b\b\b\b\b\b\b\b\b\b\b\b\b\b\b\b\b\b\b\r573/573 [==============================] - 27s 48ms/step - loss: 0.4406 - accuracy: 0.7935 - val_loss: 0.4399 - val_accuracy: 0.7921\n",
            "Epoch 3/10\n",
            "570/573 [============================>.] - ETA: 0s - loss: 0.4252 - accuracy: 0.8013\n",
            "Epoch 3: val_accuracy improved from 0.79209 to 0.79865, saving model to TL_USE_model\n"
          ]
        },
        {
          "name": "stderr",
          "output_type": "stream",
          "text": [
            "WARNING:absl:Function `_wrapped_model` contains input name(s) USE_input with unsupported characters which will be renamed to use_input in the SavedModel.\n"
          ]
        },
        {
          "name": "stdout",
          "output_type": "stream",
          "text": [
            "INFO:tensorflow:Assets written to: TL_USE_model/assets\n"
          ]
        },
        {
          "name": "stderr",
          "output_type": "stream",
          "text": [
            "INFO:tensorflow:Assets written to: TL_USE_model/assets\n"
          ]
        },
        {
          "name": "stdout",
          "output_type": "stream",
          "text": [
            "\b\b\b\b\b\b\b\b\b\b\b\b\b\b\b\b\b\b\b\b\b\b\b\b\b\b\b\b\b\b\b\b\b\b\b\b\b\b\b\b\b\b\b\b\b\b\b\b\b\b\b\b\b\b\b\b\b\b\b\b\b\b\b\b\b\b\b\b\b\b\b\b\b\b\b\b\b\b\b\b\b\b\b\b\r573/573 [==============================] - 21s 37ms/step - loss: 0.4252 - accuracy: 0.8014 - val_loss: 0.4310 - val_accuracy: 0.7986\n",
            "Epoch 4/10\n",
            "570/573 [============================>.] - ETA: 0s - loss: 0.4114 - accuracy: 0.8089\n",
            "Epoch 4: val_accuracy improved from 0.79865 to 0.80563, saving model to TL_USE_model\n"
          ]
        },
        {
          "name": "stderr",
          "output_type": "stream",
          "text": [
            "WARNING:absl:Function `_wrapped_model` contains input name(s) USE_input with unsupported characters which will be renamed to use_input in the SavedModel.\n"
          ]
        },
        {
          "name": "stdout",
          "output_type": "stream",
          "text": [
            "INFO:tensorflow:Assets written to: TL_USE_model/assets\n"
          ]
        },
        {
          "name": "stderr",
          "output_type": "stream",
          "text": [
            "INFO:tensorflow:Assets written to: TL_USE_model/assets\n"
          ]
        },
        {
          "name": "stdout",
          "output_type": "stream",
          "text": [
            "\b\b\b\b\b\b\b\b\b\b\b\b\b\b\b\b\b\b\b\b\b\b\b\b\b\b\b\b\b\b\b\b\b\b\b\b\b\b\b\b\b\b\b\b\b\b\b\b\b\b\b\b\b\b\b\b\b\b\b\b\b\b\b\b\b\b\b\b\b\b\b\b\b\b\b\b\b\b\b\b\b\b\b\b\r573/573 [==============================] - 24s 43ms/step - loss: 0.4113 - accuracy: 0.8090 - val_loss: 0.4203 - val_accuracy: 0.8056\n",
            "Epoch 5/10\n",
            "569/573 [============================>.] - ETA: 0s - loss: 0.3960 - accuracy: 0.8184\n",
            "Epoch 5: val_accuracy did not improve from 0.80563\n",
            "573/573 [==============================] - 9s 15ms/step - loss: 0.3970 - accuracy: 0.8180 - val_loss: 0.4123 - val_accuracy: 0.8043\n",
            "Epoch 6/10\n",
            "570/573 [============================>.] - ETA: 0s - loss: 0.3821 - accuracy: 0.8265\n",
            "Epoch 6: val_accuracy improved from 0.80563 to 0.81568, saving model to TL_USE_model\n"
          ]
        },
        {
          "name": "stderr",
          "output_type": "stream",
          "text": [
            "WARNING:absl:Function `_wrapped_model` contains input name(s) USE_input with unsupported characters which will be renamed to use_input in the SavedModel.\n"
          ]
        },
        {
          "name": "stdout",
          "output_type": "stream",
          "text": [
            "INFO:tensorflow:Assets written to: TL_USE_model/assets\n"
          ]
        },
        {
          "name": "stderr",
          "output_type": "stream",
          "text": [
            "INFO:tensorflow:Assets written to: TL_USE_model/assets\n"
          ]
        },
        {
          "name": "stdout",
          "output_type": "stream",
          "text": [
            "\b\b\b\b\b\b\b\b\b\b\b\b\b\b\b\b\b\b\b\b\b\b\b\b\b\b\b\b\b\b\b\b\b\b\b\b\b\b\b\b\b\b\b\b\b\b\b\b\b\b\b\b\b\b\b\b\b\b\b\b\b\b\b\b\b\b\b\b\b\b\b\b\b\b\b\b\b\b\b\b\b\b\b\b\r573/573 [==============================] - 20s 35ms/step - loss: 0.3819 - accuracy: 0.8266 - val_loss: 0.4019 - val_accuracy: 0.8157\n",
            "Epoch 7/10\n",
            "572/573 [============================>.] - ETA: 0s - loss: 0.3661 - accuracy: 0.8352\n",
            "Epoch 7: val_accuracy did not improve from 0.81568\n",
            "573/573 [==============================] - 8s 14ms/step - loss: 0.3661 - accuracy: 0.8352 - val_loss: 0.3937 - val_accuracy: 0.8157\n",
            "Epoch 8/10\n",
            "572/573 [============================>.] - ETA: 0s - loss: 0.3516 - accuracy: 0.8435\n",
            "Epoch 8: val_accuracy improved from 0.81568 to 0.82048, saving model to TL_USE_model\n"
          ]
        },
        {
          "name": "stderr",
          "output_type": "stream",
          "text": [
            "WARNING:absl:Function `_wrapped_model` contains input name(s) USE_input with unsupported characters which will be renamed to use_input in the SavedModel.\n"
          ]
        },
        {
          "name": "stdout",
          "output_type": "stream",
          "text": [
            "INFO:tensorflow:Assets written to: TL_USE_model/assets\n"
          ]
        },
        {
          "name": "stderr",
          "output_type": "stream",
          "text": [
            "INFO:tensorflow:Assets written to: TL_USE_model/assets\n"
          ]
        },
        {
          "name": "stdout",
          "output_type": "stream",
          "text": [
            "\b\b\b\b\b\b\b\b\b\b\b\b\b\b\b\b\b\b\b\b\b\b\b\b\b\b\b\b\b\b\b\b\b\b\b\b\b\b\b\b\b\b\b\b\b\b\b\b\b\b\b\b\b\b\b\b\b\b\b\b\b\b\b\b\b\b\b\b\b\b\b\b\b\b\b\b\b\b\b\b\b\b\b\b\r573/573 [==============================] - 20s 34ms/step - loss: 0.3518 - accuracy: 0.8434 - val_loss: 0.3861 - val_accuracy: 0.8205\n",
            "Epoch 9/10\n",
            "572/573 [============================>.] - ETA: 0s - loss: 0.3376 - accuracy: 0.8512\n",
            "Epoch 9: val_accuracy improved from 0.82048 to 0.82485, saving model to TL_USE_model\n"
          ]
        },
        {
          "name": "stderr",
          "output_type": "stream",
          "text": [
            "WARNING:absl:Function `_wrapped_model` contains input name(s) USE_input with unsupported characters which will be renamed to use_input in the SavedModel.\n"
          ]
        },
        {
          "name": "stdout",
          "output_type": "stream",
          "text": [
            "INFO:tensorflow:Assets written to: TL_USE_model/assets\n"
          ]
        },
        {
          "name": "stderr",
          "output_type": "stream",
          "text": [
            "INFO:tensorflow:Assets written to: TL_USE_model/assets\n"
          ]
        },
        {
          "name": "stdout",
          "output_type": "stream",
          "text": [
            "\b\b\b\b\b\b\b\b\b\b\b\b\b\b\b\b\b\b\b\b\b\b\b\b\b\b\b\b\b\b\b\b\b\b\b\b\b\b\b\b\b\b\b\b\b\b\b\b\b\b\b\b\b\b\b\b\b\b\b\b\b\b\b\b\b\b\b\b\b\b\b\b\b\b\b\b\b\b\b\b\b\b\b\b\r573/573 [==============================] - 25s 44ms/step - loss: 0.3378 - accuracy: 0.8510 - val_loss: 0.3834 - val_accuracy: 0.8249\n",
            "Epoch 10/10\n",
            "573/573 [==============================] - ETA: 0s - loss: 0.3239 - accuracy: 0.8578\n",
            "Epoch 10: val_accuracy improved from 0.82485 to 0.82594, saving model to TL_USE_model\n"
          ]
        },
        {
          "name": "stderr",
          "output_type": "stream",
          "text": [
            "WARNING:absl:Function `_wrapped_model` contains input name(s) USE_input with unsupported characters which will be renamed to use_input in the SavedModel.\n"
          ]
        },
        {
          "name": "stdout",
          "output_type": "stream",
          "text": [
            "INFO:tensorflow:Assets written to: TL_USE_model/assets\n"
          ]
        },
        {
          "name": "stderr",
          "output_type": "stream",
          "text": [
            "INFO:tensorflow:Assets written to: TL_USE_model/assets\n"
          ]
        },
        {
          "name": "stdout",
          "output_type": "stream",
          "text": [
            "\b\b\b\b\b\b\b\b\b\b\b\b\b\b\b\b\b\b\b\b\b\b\b\b\b\b\b\b\b\b\b\b\b\b\b\b\b\b\b\b\b\b\b\b\b\b\b\b\b\b\b\b\b\b\b\b\b\b\b\b\b\b\b\b\b\b\b\b\b\b\b\b\b\b\b\b\b\b\b\b\b\b\b\b\r573/573 [==============================] - 26s 45ms/step - loss: 0.3239 - accuracy: 0.8578 - val_loss: 0.3813 - val_accuracy: 0.8259\n"
          ]
        }
      ],
      "source": [
        "model7_history = model7.fit(X_train, y_train, \n",
        "                            epochs=10,\n",
        "                            validation_data=(X_val, y_val),\n",
        "                            callbacks=[callbacks7, create_tensorboard_callback(SAVE_DIR,\n",
        "                                                                   'TL_USE_model_TB')])"
      ]
    },
    {
      "cell_type": "code",
      "execution_count": 69,
      "metadata": {
        "colab": {
          "base_uri": "https://localhost:8080/",
          "height": 297
        },
        "id": "_TLjwMmy6BHD",
        "outputId": "08def4ba-748d-4c31-dea5-478f7c400bb6"
      },
      "outputs": [
        {
          "name": "stdout",
          "output_type": "stream",
          "text": [
            "{'accuracy': 82.59445293732256, 'precision': 82.61071183001229, 'recall': 82.59445293732256, 'f1': 82.59829172888051}\n"
          ]
        },
        {
          "data": {
            "image/png": "[encoded data removed]",
            "text/plain": [
              "<Figure size 432x288 with 2 Axes>"
            ]
          },
          "metadata": {
            "needs_background": "light"
          },
          "output_type": "display_data"
        }
      ],
      "source": [
        "model7 = load_model(filepath7)\n",
        "model7_pred_probs = model7.predict(X_val)\n",
        "model7_predictions = tf.squeeze(tf.round(model7_pred_probs))\n",
        "model7_results = eval_model(y_val, model7_predictions)\n",
        "print(model7_results)\n",
        "ConfusionMatrixDisplay.from_predictions(y_val, model7_predictions);"
      ]
    },
    {
      "cell_type": "markdown",
      "metadata": {
        "id": "iirExRFV6BET"
      },
      "source": [
        "# Comparing Models"
      ]
    },
    {
      "cell_type": "code",
      "execution_count": 70,
      "metadata": {
        "colab": {
          "base_uri": "https://localhost:8080/",
          "height": 300
        },
        "id": "lNLuIeqf6BB6",
        "outputId": "d7d23f7b-e68e-46b1-c0f8-ac246bfcf7ad"
      },
      "outputs": [
        {
          "data": {
            "text/html": [
              "\n",
              "  <div id=\"df-af869410-22a8-4d72-9c0c-1686dec01af4\">\n",
              "    <div class=\"colab-df-container\">\n",
              "      <div>\n",
              "<style scoped>\n",
              "    .dataframe tbody tr th:only-of-type {\n",
              "        vertical-align: middle;\n",
              "    }\n",
              "\n",
              "    .dataframe tbody tr th {\n",
              "        vertical-align: top;\n",
              "    }\n",
              "\n",
              "    .dataframe thead th {\n",
              "        text-align: right;\n",
              "    }\n",
              "</style>\n",
              "<table border=\"1\" class=\"dataframe\">\n",
              "  <thead>\n",
              "    <tr style=\"text-align: right;\">\n",
              "      <th></th>\n",
              "      <th>accuracy</th>\n",
              "      <th>precision</th>\n",
              "      <th>recall</th>\n",
              "      <th>f1</th>\n",
              "    </tr>\n",
              "  </thead>\n",
              "  <tbody>\n",
              "    <tr>\n",
              "      <th>Naive Bayes (Multinomial)</th>\n",
              "      <td>82.616292</td>\n",
              "      <td>83.061697</td>\n",
              "      <td>82.616292</td>\n",
              "      <td>82.505088</td>\n",
              "    </tr>\n",
              "    <tr>\n",
              "      <th>Naive Bayes (Bernoulli)</th>\n",
              "      <td>83.620878</td>\n",
              "      <td>83.836129</td>\n",
              "      <td>83.620878</td>\n",
              "      <td>83.560389</td>\n",
              "    </tr>\n",
              "    <tr>\n",
              "      <th>Dense</th>\n",
              "      <td>84.123171</td>\n",
              "      <td>84.174680</td>\n",
              "      <td>84.123171</td>\n",
              "      <td>84.099208</td>\n",
              "    </tr>\n",
              "    <tr>\n",
              "      <th>LSTM</th>\n",
              "      <td>83.009391</td>\n",
              "      <td>83.023478</td>\n",
              "      <td>83.009391</td>\n",
              "      <td>83.012870</td>\n",
              "    </tr>\n",
              "    <tr>\n",
              "      <th>GRU</th>\n",
              "      <td>83.009391</td>\n",
              "      <td>83.023478</td>\n",
              "      <td>83.009391</td>\n",
              "      <td>83.012870</td>\n",
              "    </tr>\n",
              "    <tr>\n",
              "      <th>Bidirectional</th>\n",
              "      <td>82.310548</td>\n",
              "      <td>82.346232</td>\n",
              "      <td>82.310548</td>\n",
              "      <td>82.316079</td>\n",
              "    </tr>\n",
              "    <tr>\n",
              "      <th>Conv1D</th>\n",
              "      <td>79.908277</td>\n",
              "      <td>79.924739</td>\n",
              "      <td>79.908277</td>\n",
              "      <td>79.912605</td>\n",
              "    </tr>\n",
              "    <tr>\n",
              "      <th>TF-HUB USE</th>\n",
              "      <td>82.594453</td>\n",
              "      <td>82.610712</td>\n",
              "      <td>82.594453</td>\n",
              "      <td>82.598292</td>\n",
              "    </tr>\n",
              "  </tbody>\n",
              "</table>\n",
              "</div>\n",
              "      <button class=\"colab-df-convert\" onclick=\"convertToInteractive('df-af869410-22a8-4d72-9c0c-1686dec01af4')\"\n",
              "              title=\"Convert this dataframe to an interactive table.\"\n",
              "              style=\"display:none;\">\n",
              "        \n",
              "  <svg xmlns=\"http://www.w3.org/2000/svg\" height=\"24px\"viewBox=\"0 0 24 24\"\n",
              "       width=\"24px\">\n",
              "    <path d=\"M0 0h24v24H0V0z\" fill=\"none\"/>\n",
              "    <path d=\"M18.56 5.44l.94 2.06.94-2.06 2.06-.94-2.06-.94-.94-2.06-.94 2.06-2.06.94zm-11 1L8.5 8.5l.94-2.06 2.06-.94-2.06-.94L8.5 2.5l-.94 2.06-2.06.94zm10 10l.94 2.06.94-2.06 2.06-.94-2.06-.94-.94-2.06-.94 2.06-2.06.94z\"/><path d=\"M17.41 7.96l-1.37-1.37c-.4-.4-.92-.59-1.43-.59-.52 0-1.04.2-1.43.59L10.3 9.45l-7.72 7.72c-.78.78-.78 2.05 0 2.83L4 21.41c.39.39.9.59 1.41.59.51 0 1.02-.2 1.41-.59l7.78-7.78 2.81-2.81c.8-.78.8-2.07 0-2.86zM5.41 20L4 18.59l7.72-7.72 1.47 1.35L5.41 20z\"/>\n",
              "  </svg>\n",
              "      </button>\n",
              "      \n",
              "  <style>\n",
              "    .colab-df-container {\n",
              "      display:flex;\n",
              "      flex-wrap:wrap;\n",
              "      gap: 12px;\n",
              "    }\n",
              "\n",
              "    .colab-df-convert {\n",
              "      background-color: #E8F0FE;\n",
              "      border: none;\n",
              "      border-radius: 50%;\n",
              "      cursor: pointer;\n",
              "      display: none;\n",
              "      fill: #1967D2;\n",
              "      height: 32px;\n",
              "      padding: 0 0 0 0;\n",
              "      width: 32px;\n",
              "    }\n",
              "\n",
              "    .colab-df-convert:hover {\n",
              "      background-color: #E2EBFA;\n",
              "      box-shadow: 0px 1px 2px rgba(60, 64, 67, 0.3), 0px 1px 3px 1px rgba(60, 64, 67, 0.15);\n",
              "      fill: #174EA6;\n",
              "    }\n",
              "\n",
              "    [theme=dark] .colab-df-convert {\n",
              "      background-color: #3B4455;\n",
              "      fill: #D2E3FC;\n",
              "    }\n",
              "\n",
              "    [theme=dark] .colab-df-convert:hover {\n",
              "      background-color: #434B5C;\n",
              "      box-shadow: 0px 1px 3px 1px rgba(0, 0, 0, 0.15);\n",
              "      filter: drop-shadow(0px 1px 2px rgba(0, 0, 0, 0.3));\n",
              "      fill: #FFFFFF;\n",
              "    }\n",
              "  </style>\n",
              "\n",
              "      <script>\n",
              "        const buttonEl =\n",
              "          document.querySelector('#df-af869410-22a8-4d72-9c0c-1686dec01af4 button.colab-df-convert');\n",
              "        buttonEl.style.display =\n",
              "          google.colab.kernel.accessAllowed ? 'block' : 'none';\n",
              "\n",
              "        async function convertToInteractive(key) {\n",
              "          const element = document.querySelector('#df-af869410-22a8-4d72-9c0c-1686dec01af4');\n",
              "          const dataTable =\n",
              "            await google.colab.kernel.invokeFunction('convertToInteractive',\n",
              "                                                     [key], {});\n",
              "          if (!dataTable) return;\n",
              "\n",
              "          const docLinkHtml = 'Like what you see? Visit the ' +\n",
              "            '<a target=\"_blank\" href=https://colab.research.google.com/notebooks/data_table.ipynb>data table notebook</a>'\n",
              "            + ' to learn more about interactive tables.';\n",
              "          element.innerHTML = '';\n",
              "          dataTable['output_type'] = 'display_data';\n",
              "          await google.colab.output.renderOutput(dataTable, element);\n",
              "          const docLink = document.createElement('div');\n",
              "          docLink.innerHTML = docLinkHtml;\n",
              "          element.appendChild(docLink);\n",
              "        }\n",
              "      </script>\n",
              "    </div>\n",
              "  </div>\n",
              "  "
            ],
            "text/plain": [
              "                            accuracy  precision     recall         f1\n",
              "Naive Bayes (Multinomial)  82.616292  83.061697  82.616292  82.505088\n",
              "Naive Bayes (Bernoulli)    83.620878  83.836129  83.620878  83.560389\n",
              "Dense                      84.123171  84.174680  84.123171  84.099208\n",
              "LSTM                       83.009391  83.023478  83.009391  83.012870\n",
              "GRU                        83.009391  83.023478  83.009391  83.012870\n",
              "Bidirectional              82.310548  82.346232  82.310548  82.316079\n",
              "Conv1D                     79.908277  79.924739  79.908277  79.912605\n",
              "TF-HUB USE                 82.594453  82.610712  82.594453  82.598292"
            ]
          },
          "execution_count": 70,
          "metadata": {},
          "output_type": "execute_result"
        }
      ],
      "source": [
        "all_model_results = pd.DataFrame({'Naive Bayes (Multinomial)':Multinomial_results,\n",
        "                                  'Naive Bayes (Bernoulli)':Bernoulli_results,\n",
        "                                  'Dense':model3_results,\n",
        "                                  'LSTM':model4_results,\n",
        "                                  'GRU':model4_results,\n",
        "                                  'Bidirectional':model5_results,\n",
        "                                  'Conv1D':model6_results,\n",
        "                                  'TF-HUB USE':model7_results})\n",
        "all_model_results = all_model_results.T\n",
        "all_model_results"
      ]
    },
    {
      "cell_type": "code",
      "execution_count": 71,
      "metadata": {
        "colab": {
          "base_uri": "https://localhost:8080/",
          "height": 658
        },
        "id": "eA53JBK46A-8",
        "outputId": "cf8776f2-2a9e-432e-d629-09c29474d4c1"
      },
      "outputs": [
        {
          "data": {
            "image/png": "[encoded data removed]",
            "text/plain": [
              "<Figure size 1152x648 with 1 Axes>"
            ]
          },
          "metadata": {
            "needs_background": "light"
          },
          "output_type": "display_data"
        }
      ],
      "source": [
        "all_model_results.plot(kind='bar',figsize=(16,9)).legend(bbox_to_anchor=(1,1));"
      ]
    },
    {
      "cell_type": "code",
      "execution_count": 73,
      "metadata": {
        "colab": {
          "base_uri": "https://localhost:8080/",
          "height": 658
        },
        "id": "7GRTh8js6A8m",
        "outputId": "c114bdc3-84e9-48b0-a7fa-7262f034cf85"
      },
      "outputs": [
        {
          "data": {
            "image/png": "[encoded data removed]",
            "text/plain": [
              "<Figure size 1152x648 with 1 Axes>"
            ]
          },
          "metadata": {
            "needs_background": "light"
          },
          "output_type": "display_data"
        }
      ],
      "source": [
        "all_model_results['recall'].plot(kind='bar',figsize=(16,9));"
      ]
    },
    {
      "cell_type": "markdown",
      "metadata": {
        "id": "wN4xpKxf6A5x"
      },
      "source": [
        "## Test Data Scores"
      ]
    },
    {
      "cell_type": "code",
      "execution_count": 79,
      "metadata": {
        "colab": {
          "base_uri": "https://localhost:8080/",
          "height": 297
        },
        "id": "TPQ1MO2L6A3W",
        "outputId": "897ddf61-4fde-4501-e8c1-5cf67bfef2c8"
      },
      "outputs": [
        {
          "name": "stdout",
          "output_type": "stream",
          "text": [
            "{'accuracy': 84.15443745632425, 'precision': 84.21355975302471, 'recall': 84.15443745632425, 'f1': 84.13118978963337}\n"
          ]
        },
        {
          "data": {
            "image/png": "[encoded data removed]",
            "text/plain": [
              "<Figure size 432x288 with 2 Axes>"
            ]
          },
          "metadata": {
            "needs_background": "light"
          },
          "output_type": "display_data"
        }
      ],
      "source": [
        "model3_pred_probs_test = model3.predict(X_test)\n",
        "model3_predictions_test = tf.squeeze(tf.round(model3_pred_probs_test))\n",
        "model3_results_test = eval_model(y_test, model3_predictions_test)\n",
        "ConfusionMatrixDisplay.from_predictions(y_test, model3_predictions_test);\n",
        "print(model3_results_test)\n"
      ]
    },
    {
      "cell_type": "markdown",
      "metadata": {
        "id": "8HsxS-8D6AyZ"
      },
      "source": [
        "## Tensorboard - Dense Model (Best Model)"
      ]
    },
    {
      "cell_type": "code",
      "execution_count": null,
      "metadata": {
        "colab": {
          "base_uri": "https://localhost:8080/"
        },
        "id": "YqUinjPB6Avt",
        "outputId": "a07926fc-68b6-4474-e640-73265331da26"
      },
      "outputs": [],
      "source": [
        "!tensorboard dev upload --logdir ./tensorboard/ \\\n",
        "  --name 'Sarcasm NLP Analysis' \\\n",
        "  --description 'NLP Classification project of news headlines' \\\n",
        "  --one_shot"
      ]
    },
    {
      "cell_type": "markdown",
      "metadata": {
        "id": "uSTzjfQ76AtL"
      },
      "source": [
        "### Tensorboard Link\n",
        "https://tensorboard.dev/experiment/lDzFNLqJQoi1fDIjouMtrQ/"
      ]
    },
    {
      "cell_type": "code",
      "execution_count": 87,
      "metadata": {
        "colab": {
          "base_uri": "https://localhost:8080/"
        },
        "id": "aHpbwFno6AmM",
        "outputId": "870997c1-6a84-4294-981c-a6f99c013a85"
      },
      "outputs": [
        {
          "data": {
            "text/plain": [
              "array([[0.9996041]], dtype=float32)"
            ]
          },
          "execution_count": 87,
          "metadata": {},
          "output_type": "execute_result"
        }
      ],
      "source": [
        "model3.predict(['Very good job on that terrible report'])"
      ]
    },
    {
      "cell_type": "markdown",
      "metadata": {
        "id": "-b1ipHi6EY5C"
      },
      "source": [
        "### Model is pretty sure this is a sarcastic headline"
      ]
    },
    {
      "cell_type": "code",
      "execution_count": 89,
      "metadata": {
        "colab": {
          "base_uri": "https://localhost:8080/"
        },
        "id": "rit5zosNEndp",
        "outputId": "3e889239-c821-4ff5-908f-589fba95e060"
      },
      "outputs": [
        {
          "data": {
            "text/plain": [
              "array([[0.00199085]], dtype=float32)"
            ]
          },
          "execution_count": 89,
          "metadata": {},
          "output_type": "execute_result"
        }
      ],
      "source": [
        "model3.predict(['I am happy for the results'])"
      ]
    },
    {
      "cell_type": "markdown",
      "metadata": {
        "id": "KBPW9ir5EsNy"
      },
      "source": [
        "### Model seems to be doing a good job on both ends I'd say"
      ]
    },
    {
      "cell_type": "code",
      "execution_count": 99,
      "metadata": {
        "colab": {
          "base_uri": "https://localhost:8080/",
          "height": 1000
        },
        "id": "nVyC0Yz2IQZT",
        "outputId": "cec7606a-266a-46ab-b999-c158e9bedcf5"
      },
      "outputs": [
        {
          "name": "stdout",
          "output_type": "stream",
          "text": [
            "  adding: content/LSTM_model/ (stored 0%)\n",
            "  adding: content/LSTM_model/assets/ (stored 0%)\n",
            "  adding: content/LSTM_model/variables/ (stored 0%)\n",
            "  adding: content/LSTM_model/variables/variables.data-00000-of-00001 (deflated 5%)\n",
            "  adding: content/LSTM_model/variables/variables.index (deflated 64%)\n",
            "  adding: content/LSTM_model/keras_metadata.pb (deflated 89%)\n",
            "  adding: content/LSTM_model/saved_model.pb (deflated 85%)\n",
            "  adding: content/TL_USE_model/ (stored 0%)\n",
            "  adding: content/TL_USE_model/assets/ (stored 0%)\n",
            "  adding: content/TL_USE_model/variables/ (stored 0%)\n",
            "  adding: content/TL_USE_model/variables/variables.data-00000-of-00001 (deflated 7%)\n",
            "  adding: content/TL_USE_model/variables/variables.index (deflated 78%)\n",
            "  adding: content/TL_USE_model/keras_metadata.pb (deflated 84%)\n",
            "  adding: content/TL_USE_model/saved_model.pb (deflated 67%)\n",
            "  adding: content/tensorboard/ (stored 0%)\n",
            "  adding: content/tensorboard/dense_model/ (stored 0%)\n",
            "  adding: content/tensorboard/dense_model/20220406-073814/ (stored 0%)\n",
            "  adding: content/tensorboard/dense_model/20220406-073814/train/ (stored 0%)\n",
            "  adding: content/tensorboard/dense_model/20220406-073814/train/events.out.tfevents.1649230694.bd80b99cc232.59.0.v2 (deflated 87%)\n",
            "  adding: content/tensorboard/dense_model/20220406-074430/ (stored 0%)\n",
            "  adding: content/tensorboard/dense_model/20220406-074430/train/ (stored 0%)\n",
            "  adding: content/tensorboard/dense_model/20220406-074430/train/events.out.tfevents.1649231070.bd80b99cc232.59.3.v2 (deflated 75%)\n",
            "  adding: content/tensorboard/dense_model/20220406-073821/ (stored 0%)\n",
            "  adding: content/tensorboard/dense_model/20220406-073821/validation/ (stored 0%)\n",
            "  adding: content/tensorboard/dense_model/20220406-073821/validation/events.out.tfevents.1649230729.bd80b99cc232.59.2.v2 (deflated 67%)\n",
            "  adding: content/tensorboard/dense_model/20220406-073821/train/ (stored 0%)\n",
            "  adding: content/tensorboard/dense_model/20220406-073821/train/events.out.tfevents.1649230701.bd80b99cc232.59.1.v2 (deflated 87%)\n",
            "  adding: content/tensorboard/CNN1D_model_TB/ (stored 0%)\n",
            "  adding: content/tensorboard/CNN1D_model_TB/20220406-082456/ (stored 0%)\n",
            "  adding: content/tensorboard/CNN1D_model_TB/20220406-082456/validation/ (stored 0%)\n",
            "  adding: content/tensorboard/CNN1D_model_TB/20220406-082456/validation/events.out.tfevents.1649233527.bd80b99cc232.1256.11.v2 (deflated 67%)\n",
            "  adding: content/tensorboard/CNN1D_model_TB/20220406-082456/train/ (stored 0%)\n",
            "  adding: content/tensorboard/CNN1D_model_TB/20220406-082456/train/events.out.tfevents.1649233496.bd80b99cc232.1256.10.v2 (deflated 87%)\n",
            "  adding: content/tensorboard/Bidirectional_model_TB/ (stored 0%)\n",
            "  adding: content/tensorboard/Bidirectional_model_TB/20220406-081621/ (stored 0%)\n",
            "  adding: content/tensorboard/Bidirectional_model_TB/20220406-081621/validation/ (stored 0%)\n",
            "  adding: content/tensorboard/Bidirectional_model_TB/20220406-081621/validation/events.out.tfevents.1649233059.bd80b99cc232.1256.9.v2 (deflated 68%)\n",
            "  adding: content/tensorboard/Bidirectional_model_TB/20220406-081621/train/ (stored 0%)\n",
            "  adding: content/tensorboard/Bidirectional_model_TB/20220406-081621/train/events.out.tfevents.1649232981.bd80b99cc232.1256.8.v2 (deflated 89%)\n",
            "  adding: content/tensorboard/lstm_model/ (stored 0%)\n",
            "  adding: content/tensorboard/lstm_model/20220406-074918/ (stored 0%)\n",
            "  adding: content/tensorboard/lstm_model/20220406-074918/validation/ (stored 0%)\n",
            "  adding: content/tensorboard/lstm_model/20220406-074918/validation/events.out.tfevents.1649231436.bd80b99cc232.59.7.v2 (deflated 38%)\n",
            "  adding: content/tensorboard/lstm_model/20220406-074918/train/ (stored 0%)\n",
            "  adding: content/tensorboard/lstm_model/20220406-074918/train/events.out.tfevents.1649231358.bd80b99cc232.59.6.v2 (deflated 90%)\n",
            "  adding: content/tensorboard/gru_model_TB/ (stored 0%)\n",
            "  adding: content/tensorboard/gru_model_TB/20220406-081147/ (stored 0%)\n",
            "  adding: content/tensorboard/gru_model_TB/20220406-081147/validation/ (stored 0%)\n",
            "  adding: content/tensorboard/gru_model_TB/20220406-081147/validation/events.out.tfevents.1649232758.bd80b99cc232.1256.7.v2 (deflated 67%)\n",
            "  adding: content/tensorboard/gru_model_TB/20220406-081147/train/ (stored 0%)\n",
            "  adding: content/tensorboard/gru_model_TB/20220406-081147/train/events.out.tfevents.1649232707.bd80b99cc232.1256.6.v2 (deflated 88%)\n",
            "  adding: content/tensorboard/gru_model_TB/20220406-081142/ (stored 0%)\n",
            "  adding: content/tensorboard/gru_model_TB/20220406-081142/train/ (stored 0%)\n",
            "  adding: content/tensorboard/gru_model_TB/20220406-081142/train/events.out.tfevents.1649232702.bd80b99cc232.1256.5.v2 (deflated 68%)\n",
            "  adding: content/tensorboard/dense_model_TB/ (stored 0%)\n",
            "  adding: content/tensorboard/dense_model_TB/20220406-075424/ (stored 0%)\n",
            "  adding: content/tensorboard/dense_model_TB/20220406-075424/validation/ (stored 0%)\n",
            "  adding: content/tensorboard/dense_model_TB/20220406-075424/validation/events.out.tfevents.1649231693.bd80b99cc232.1256.1.v2 (deflated 67%)\n",
            "  adding: content/tensorboard/dense_model_TB/20220406-075424/train/ (stored 0%)\n",
            "  adding: content/tensorboard/dense_model_TB/20220406-075424/train/events.out.tfevents.1649231664.bd80b99cc232.1256.0.v2 (deflated 87%)\n",
            "  adding: content/tensorboard/TL_USE_model_TB/ (stored 0%)\n",
            "  adding: content/tensorboard/TL_USE_model_TB/20220406-082909/ (stored 0%)\n",
            "  adding: content/tensorboard/TL_USE_model_TB/20220406-082909/validation/ (stored 0%)\n",
            "  adding: content/tensorboard/TL_USE_model_TB/20220406-082909/validation/events.out.tfevents.1649233762.bd80b99cc232.1256.13.v2 (deflated 72%)\n",
            "  adding: content/tensorboard/TL_USE_model_TB/20220406-082909/train/ (stored 0%)\n",
            "  adding: content/tensorboard/TL_USE_model_TB/20220406-082909/train/events.out.tfevents.1649233749.bd80b99cc232.1256.12.v2 (deflated 93%)\n",
            "  adding: content/tensorboard/LSTM_model/ (stored 0%)\n",
            "  adding: content/tensorboard/LSTM_model/20220406-074442/ (stored 0%)\n",
            "  adding: content/tensorboard/LSTM_model/20220406-074442/validation/ (stored 0%)\n",
            "  adding: content/tensorboard/LSTM_model/20220406-074442/validation/events.out.tfevents.1649231125.bd80b99cc232.59.5.v2 (deflated 67%)\n",
            "  adding: content/tensorboard/LSTM_model/20220406-074442/train/ (stored 0%)\n",
            "  adding: content/tensorboard/LSTM_model/20220406-074442/train/events.out.tfevents.1649231082.bd80b99cc232.59.4.v2 (deflated 89%)\n",
            "  adding: content/tensorboard/lstm_model_TB/ (stored 0%)\n",
            "  adding: content/tensorboard/lstm_model_TB/20220406-080035/ (stored 0%)\n",
            "  adding: content/tensorboard/lstm_model_TB/20220406-080035/train/ (stored 0%)\n",
            "  adding: content/tensorboard/lstm_model_TB/20220406-080035/train/events.out.tfevents.1649232035.bd80b99cc232.1256.2.v2 (deflated 89%)\n",
            "  adding: content/tensorboard/lstm_model_TB/20220406-080057/ (stored 0%)\n",
            "  adding: content/tensorboard/lstm_model_TB/20220406-080057/validation/ (stored 0%)\n",
            "  adding: content/tensorboard/lstm_model_TB/20220406-080057/validation/events.out.tfevents.1649232112.bd80b99cc232.1256.4.v2 (deflated 68%)\n",
            "  adding: content/tensorboard/lstm_model_TB/20220406-080057/train/ (stored 0%)\n",
            "  adding: content/tensorboard/lstm_model_TB/20220406-080057/train/events.out.tfevents.1649232057.bd80b99cc232.1256.3.v2 (deflated 89%)\n"
          ]
        },
        {
          "data": {
            "application/javascript": "\n    async function download(id, filename, size) {\n      if (!google.colab.kernel.accessAllowed) {\n        return;\n      }\n      const div = document.createElement('div');\n      const label = document.createElement('label');\n      label.textContent = `Downloading \"${filename}\": `;\n      div.appendChild(label);\n      const progress = document.createElement('progress');\n      progress.max = size;\n      div.appendChild(progress);\n      document.body.appendChild(div);\n\n      const buffers = [];\n      let downloaded = 0;\n\n      const channel = await google.colab.kernel.comms.open(id);\n      // Send a message to notify the kernel that we're ready.\n      channel.send({})\n\n      for await (const message of channel.messages) {\n        // Send a message to notify the kernel that we're ready.\n        channel.send({})\n        if (message.buffers) {\n          for (const buffer of message.buffers) {\n            buffers.push(buffer);\n            downloaded += buffer.byteLength;\n            progress.value = downloaded;\n          }\n        }\n      }\n      const blob = new Blob(buffers, {type: 'application/binary'});\n      const a = document.createElement('a');\n      a.href = window.URL.createObjectURL(blob);\n      a.download = filename;\n      div.appendChild(a);\n      a.click();\n      div.remove();\n    }\n  ",
            "text/plain": [
              "<IPython.core.display.Javascript object>"
            ]
          },
          "metadata": {},
          "output_type": "display_data"
        },
        {
          "data": {
            "application/javascript": "download(\"download_62335d03-63c9-4050-84c0-19a69f134a29\", \"file.zip\", 1132859347)",
            "text/plain": [
              "<IPython.core.display.Javascript object>"
            ]
          },
          "metadata": {},
          "output_type": "display_data"
        }
      ],
      "source": [
        "!zip -r /content/file.zip /content/dense_model/\n",
        "!zip -r /content/file.zip /content/GRU_model/\n",
        "!zip -r /content/file.zip /content/CNN1D_model/\n",
        "!zip -r /content/file.zip /content/Bidirectional_model/\n",
        "!zip -r /content/file.zip /content/LSTM_model/\n",
        "!zip -r /content/file.zip /content/TL_USE_model/\n",
        "!zip -r /content/file.zip /content/tensorboard/\n",
        "files.download(\"/content/file.zip\")"
      ]
    },
    {
      "cell_type": "code",
      "execution_count": null,
      "metadata": {
        "id": "ygOOufoFP7Vt"
      },
      "outputs": [],
      "source": []
    }
  ],
  "metadata": {
    "accelerator": "GPU",
    "colab": {
      "collapsed_sections": [],
      "name": "Sarcasm.ipynb",
      "provenance": []
    },
    "kernelspec": {
      "display_name": "Python 3",
      "name": "python3"
    },
    "language_info": {
      "codemirror_mode": {
        "name": "ipython",
        "version": 3
      },
      "file_extension": ".py",
      "mimetype": "text/x-python",
      "name": "python",
      "nbconvert_exporter": "python",
      "pygments_lexer": "ipython3",
      "version": "3.8.5"
    }
  },
  "nbformat": 4,
  "nbformat_minor": 0
}
